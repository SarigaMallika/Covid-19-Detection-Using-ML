{
 "cells": [
  {
   "cell_type": "code",
   "execution_count": 3,
   "metadata": {},
   "outputs": [],
   "source": [
    "#Classification with Linear SVC"
   ]
  },
  {
   "cell_type": "code",
   "execution_count": 21,
   "metadata": {},
   "outputs": [],
   "source": [
    "import numpy as np\n",
    "import pandas as pd\n",
    "from sklearn.model_selection import train_test_split\n",
    "from sklearn.metrics import accuracy_score\n",
    "import matplotlib.pyplot as plt\n",
    "import seaborn as sns\n",
    "from sklearn.model_selection import train_test_split\n",
    "\n",
    "#Classifier imports\n",
    "from sklearn.neighbors import KNeighborsClassifier\n",
    "from sklearn.naive_bayes import GaussianNB, MultinomialNB, BernoulliNB\n",
    "from sklearn.linear_model import LogisticRegression, SGDClassifier\n",
    "from sklearn.svm import SVC, LinearSVC, NuSVC\n",
    "\n",
    "# Performance metrics\n",
    "from sklearn.metrics import accuracy_score, classification_report\n",
    "import numpy as np\n",
    "import itertools\n",
    "from sklearn.metrics import confusion_matrix\n",
    "from sklearn import datasets\n",
    "import matplotlib.pyplot as plt\n",
    "from sklearn.svm import SVC\n"
   ]
  },
  {
   "cell_type": "code",
   "execution_count": 23,
   "metadata": {},
   "outputs": [],
   "source": [
    "df = pd.read_csv(\"C:/Users/LENOVO/Downloads/COVID19-Probability-Symptoms-Checker-master111/COVID19-Probability-Symptoms-Checker-master/COVID-19/covid_final_data.csv\", header=0)\n",
    "x = df.drop('COVID_OUTPUT', axis=1)\n",
    "y = df['COVID_OUTPUT']\n",
    "x_train, x_test, y_train, y_test = train_test_split(x, y, test_size=0.2)"
   ]
  },
  {
   "cell_type": "code",
   "execution_count": 24,
   "metadata": {},
   "outputs": [
    {
     "name": "stdout",
     "output_type": "stream",
     "text": [
      "(1196, 15) (1196,)\n",
      "(299, 15) (299,)\n"
     ]
    }
   ],
   "source": [
    "print(x_train.shape, y_train.shape)\n",
    "print(x_test.shape, y_test.shape)"
   ]
  },
  {
   "cell_type": "code",
   "execution_count": 25,
   "metadata": {},
   "outputs": [
    {
     "data": {
      "text/html": [
       "<div>\n",
       "<style scoped>\n",
       "    .dataframe tbody tr th:only-of-type {\n",
       "        vertical-align: middle;\n",
       "    }\n",
       "\n",
       "    .dataframe tbody tr th {\n",
       "        vertical-align: top;\n",
       "    }\n",
       "\n",
       "    .dataframe thead th {\n",
       "        text-align: right;\n",
       "    }\n",
       "</style>\n",
       "<table border=\"1\" class=\"dataframe\">\n",
       "  <thead>\n",
       "    <tr style=\"text-align: right;\">\n",
       "      <th></th>\n",
       "      <th>AGE</th>\n",
       "      <th>GENDER</th>\n",
       "      <th>FEVER</th>\n",
       "      <th>COUGH</th>\n",
       "      <th>FATIGUE</th>\n",
       "      <th>PAINS</th>\n",
       "      <th>NASAL_CONGESTION</th>\n",
       "      <th>SHORTNESS_OF_BREATH</th>\n",
       "      <th>RUNNY_NOSE</th>\n",
       "      <th>SORE THROAT</th>\n",
       "      <th>DIARRHEA</th>\n",
       "      <th>CHILLS</th>\n",
       "      <th>HEADACHE</th>\n",
       "      <th>VOMITING</th>\n",
       "      <th>LIVES_IN_AFFECTED_AREA</th>\n",
       "    </tr>\n",
       "  </thead>\n",
       "  <tbody>\n",
       "    <tr>\n",
       "      <th>519</th>\n",
       "      <td>37</td>\n",
       "      <td>0</td>\n",
       "      <td>0</td>\n",
       "      <td>1</td>\n",
       "      <td>0</td>\n",
       "      <td>0</td>\n",
       "      <td>0</td>\n",
       "      <td>0</td>\n",
       "      <td>0</td>\n",
       "      <td>0</td>\n",
       "      <td>0</td>\n",
       "      <td>0</td>\n",
       "      <td>0</td>\n",
       "      <td>0</td>\n",
       "      <td>0</td>\n",
       "    </tr>\n",
       "    <tr>\n",
       "      <th>220</th>\n",
       "      <td>39</td>\n",
       "      <td>0</td>\n",
       "      <td>1</td>\n",
       "      <td>0</td>\n",
       "      <td>0</td>\n",
       "      <td>0</td>\n",
       "      <td>0</td>\n",
       "      <td>0</td>\n",
       "      <td>0</td>\n",
       "      <td>0</td>\n",
       "      <td>0</td>\n",
       "      <td>0</td>\n",
       "      <td>0</td>\n",
       "      <td>0</td>\n",
       "      <td>1</td>\n",
       "    </tr>\n",
       "    <tr>\n",
       "      <th>937</th>\n",
       "      <td>69</td>\n",
       "      <td>1</td>\n",
       "      <td>0</td>\n",
       "      <td>0</td>\n",
       "      <td>0</td>\n",
       "      <td>0</td>\n",
       "      <td>0</td>\n",
       "      <td>0</td>\n",
       "      <td>0</td>\n",
       "      <td>0</td>\n",
       "      <td>0</td>\n",
       "      <td>0</td>\n",
       "      <td>0</td>\n",
       "      <td>0</td>\n",
       "      <td>0</td>\n",
       "    </tr>\n",
       "    <tr>\n",
       "      <th>1485</th>\n",
       "      <td>80</td>\n",
       "      <td>1</td>\n",
       "      <td>1</td>\n",
       "      <td>1</td>\n",
       "      <td>0</td>\n",
       "      <td>0</td>\n",
       "      <td>0</td>\n",
       "      <td>0</td>\n",
       "      <td>0</td>\n",
       "      <td>0</td>\n",
       "      <td>0</td>\n",
       "      <td>0</td>\n",
       "      <td>0</td>\n",
       "      <td>0</td>\n",
       "      <td>1</td>\n",
       "    </tr>\n",
       "    <tr>\n",
       "      <th>162</th>\n",
       "      <td>29</td>\n",
       "      <td>1</td>\n",
       "      <td>1</td>\n",
       "      <td>0</td>\n",
       "      <td>0</td>\n",
       "      <td>0</td>\n",
       "      <td>0</td>\n",
       "      <td>0</td>\n",
       "      <td>0</td>\n",
       "      <td>0</td>\n",
       "      <td>0</td>\n",
       "      <td>0</td>\n",
       "      <td>0</td>\n",
       "      <td>0</td>\n",
       "      <td>0</td>\n",
       "    </tr>\n",
       "  </tbody>\n",
       "</table>\n",
       "</div>"
      ],
      "text/plain": [
       "      AGE  GENDER  FEVER  COUGH  FATIGUE  PAINS  NASAL_CONGESTION  \\\n",
       "519    37       0      0      1        0      0                 0   \n",
       "220    39       0      1      0        0      0                 0   \n",
       "937    69       1      0      0        0      0                 0   \n",
       "1485   80       1      1      1        0      0                 0   \n",
       "162    29       1      1      0        0      0                 0   \n",
       "\n",
       "      SHORTNESS_OF_BREATH  RUNNY_NOSE  SORE THROAT  DIARRHEA  CHILLS  \\\n",
       "519                     0           0            0         0       0   \n",
       "220                     0           0            0         0       0   \n",
       "937                     0           0            0         0       0   \n",
       "1485                    0           0            0         0       0   \n",
       "162                     0           0            0         0       0   \n",
       "\n",
       "      HEADACHE  VOMITING  LIVES_IN_AFFECTED_AREA  \n",
       "519          0         0                       0  \n",
       "220          0         0                       1  \n",
       "937          0         0                       0  \n",
       "1485         0         0                       1  \n",
       "162          0         0                       0  "
      ]
     },
     "execution_count": 25,
     "metadata": {},
     "output_type": "execute_result"
    }
   ],
   "source": [
    "x_train.head()"
   ]
  },
  {
   "cell_type": "code",
   "execution_count": 26,
   "metadata": {},
   "outputs": [
    {
     "data": {
      "text/html": [
       "<div>\n",
       "<style scoped>\n",
       "    .dataframe tbody tr th:only-of-type {\n",
       "        vertical-align: middle;\n",
       "    }\n",
       "\n",
       "    .dataframe tbody tr th {\n",
       "        vertical-align: top;\n",
       "    }\n",
       "\n",
       "    .dataframe thead th {\n",
       "        text-align: right;\n",
       "    }\n",
       "</style>\n",
       "<table border=\"1\" class=\"dataframe\">\n",
       "  <thead>\n",
       "    <tr style=\"text-align: right;\">\n",
       "      <th></th>\n",
       "      <th>AGE</th>\n",
       "      <th>GENDER</th>\n",
       "      <th>FEVER</th>\n",
       "      <th>COUGH</th>\n",
       "      <th>FATIGUE</th>\n",
       "      <th>PAINS</th>\n",
       "      <th>NASAL_CONGESTION</th>\n",
       "      <th>SHORTNESS_OF_BREATH</th>\n",
       "      <th>RUNNY_NOSE</th>\n",
       "      <th>SORE THROAT</th>\n",
       "      <th>DIARRHEA</th>\n",
       "      <th>CHILLS</th>\n",
       "      <th>HEADACHE</th>\n",
       "      <th>VOMITING</th>\n",
       "      <th>LIVES_IN_AFFECTED_AREA</th>\n",
       "    </tr>\n",
       "  </thead>\n",
       "  <tbody>\n",
       "    <tr>\n",
       "      <th>count</th>\n",
       "      <td>1196.000000</td>\n",
       "      <td>1196.00000</td>\n",
       "      <td>1196.000000</td>\n",
       "      <td>1196.000000</td>\n",
       "      <td>1196.000000</td>\n",
       "      <td>1196.000000</td>\n",
       "      <td>1196.000000</td>\n",
       "      <td>1196.000000</td>\n",
       "      <td>1196.000000</td>\n",
       "      <td>1196.000000</td>\n",
       "      <td>1196.000000</td>\n",
       "      <td>1196.000000</td>\n",
       "      <td>1196.000000</td>\n",
       "      <td>1196.000000</td>\n",
       "      <td>1196.000000</td>\n",
       "    </tr>\n",
       "    <tr>\n",
       "      <th>mean</th>\n",
       "      <td>50.659699</td>\n",
       "      <td>0.57107</td>\n",
       "      <td>0.500000</td>\n",
       "      <td>0.302676</td>\n",
       "      <td>0.045151</td>\n",
       "      <td>0.031773</td>\n",
       "      <td>0.040134</td>\n",
       "      <td>0.045987</td>\n",
       "      <td>0.046823</td>\n",
       "      <td>0.090301</td>\n",
       "      <td>0.022575</td>\n",
       "      <td>0.035117</td>\n",
       "      <td>0.153846</td>\n",
       "      <td>0.021739</td>\n",
       "      <td>0.403846</td>\n",
       "    </tr>\n",
       "    <tr>\n",
       "      <th>std</th>\n",
       "      <td>18.626128</td>\n",
       "      <td>0.49513</td>\n",
       "      <td>0.500209</td>\n",
       "      <td>0.459608</td>\n",
       "      <td>0.207721</td>\n",
       "      <td>0.175467</td>\n",
       "      <td>0.196355</td>\n",
       "      <td>0.209544</td>\n",
       "      <td>0.211347</td>\n",
       "      <td>0.286732</td>\n",
       "      <td>0.148607</td>\n",
       "      <td>0.184153</td>\n",
       "      <td>0.360952</td>\n",
       "      <td>0.145892</td>\n",
       "      <td>0.490873</td>\n",
       "    </tr>\n",
       "    <tr>\n",
       "      <th>min</th>\n",
       "      <td>1.000000</td>\n",
       "      <td>0.00000</td>\n",
       "      <td>0.000000</td>\n",
       "      <td>0.000000</td>\n",
       "      <td>0.000000</td>\n",
       "      <td>0.000000</td>\n",
       "      <td>0.000000</td>\n",
       "      <td>0.000000</td>\n",
       "      <td>0.000000</td>\n",
       "      <td>0.000000</td>\n",
       "      <td>0.000000</td>\n",
       "      <td>0.000000</td>\n",
       "      <td>0.000000</td>\n",
       "      <td>0.000000</td>\n",
       "      <td>0.000000</td>\n",
       "    </tr>\n",
       "    <tr>\n",
       "      <th>25%</th>\n",
       "      <td>37.000000</td>\n",
       "      <td>0.00000</td>\n",
       "      <td>0.000000</td>\n",
       "      <td>0.000000</td>\n",
       "      <td>0.000000</td>\n",
       "      <td>0.000000</td>\n",
       "      <td>0.000000</td>\n",
       "      <td>0.000000</td>\n",
       "      <td>0.000000</td>\n",
       "      <td>0.000000</td>\n",
       "      <td>0.000000</td>\n",
       "      <td>0.000000</td>\n",
       "      <td>0.000000</td>\n",
       "      <td>0.000000</td>\n",
       "      <td>0.000000</td>\n",
       "    </tr>\n",
       "    <tr>\n",
       "      <th>50%</th>\n",
       "      <td>51.000000</td>\n",
       "      <td>1.00000</td>\n",
       "      <td>0.500000</td>\n",
       "      <td>0.000000</td>\n",
       "      <td>0.000000</td>\n",
       "      <td>0.000000</td>\n",
       "      <td>0.000000</td>\n",
       "      <td>0.000000</td>\n",
       "      <td>0.000000</td>\n",
       "      <td>0.000000</td>\n",
       "      <td>0.000000</td>\n",
       "      <td>0.000000</td>\n",
       "      <td>0.000000</td>\n",
       "      <td>0.000000</td>\n",
       "      <td>0.000000</td>\n",
       "    </tr>\n",
       "    <tr>\n",
       "      <th>75%</th>\n",
       "      <td>65.000000</td>\n",
       "      <td>1.00000</td>\n",
       "      <td>1.000000</td>\n",
       "      <td>1.000000</td>\n",
       "      <td>0.000000</td>\n",
       "      <td>0.000000</td>\n",
       "      <td>0.000000</td>\n",
       "      <td>0.000000</td>\n",
       "      <td>0.000000</td>\n",
       "      <td>0.000000</td>\n",
       "      <td>0.000000</td>\n",
       "      <td>0.000000</td>\n",
       "      <td>0.000000</td>\n",
       "      <td>0.000000</td>\n",
       "      <td>1.000000</td>\n",
       "    </tr>\n",
       "    <tr>\n",
       "      <th>max</th>\n",
       "      <td>98.000000</td>\n",
       "      <td>1.00000</td>\n",
       "      <td>1.000000</td>\n",
       "      <td>1.000000</td>\n",
       "      <td>1.000000</td>\n",
       "      <td>1.000000</td>\n",
       "      <td>1.000000</td>\n",
       "      <td>1.000000</td>\n",
       "      <td>1.000000</td>\n",
       "      <td>1.000000</td>\n",
       "      <td>1.000000</td>\n",
       "      <td>1.000000</td>\n",
       "      <td>1.000000</td>\n",
       "      <td>1.000000</td>\n",
       "      <td>1.000000</td>\n",
       "    </tr>\n",
       "  </tbody>\n",
       "</table>\n",
       "</div>"
      ],
      "text/plain": [
       "               AGE      GENDER        FEVER        COUGH      FATIGUE  \\\n",
       "count  1196.000000  1196.00000  1196.000000  1196.000000  1196.000000   \n",
       "mean     50.659699     0.57107     0.500000     0.302676     0.045151   \n",
       "std      18.626128     0.49513     0.500209     0.459608     0.207721   \n",
       "min       1.000000     0.00000     0.000000     0.000000     0.000000   \n",
       "25%      37.000000     0.00000     0.000000     0.000000     0.000000   \n",
       "50%      51.000000     1.00000     0.500000     0.000000     0.000000   \n",
       "75%      65.000000     1.00000     1.000000     1.000000     0.000000   \n",
       "max      98.000000     1.00000     1.000000     1.000000     1.000000   \n",
       "\n",
       "             PAINS  NASAL_CONGESTION  SHORTNESS_OF_BREATH   RUNNY_NOSE  \\\n",
       "count  1196.000000       1196.000000          1196.000000  1196.000000   \n",
       "mean      0.031773          0.040134             0.045987     0.046823   \n",
       "std       0.175467          0.196355             0.209544     0.211347   \n",
       "min       0.000000          0.000000             0.000000     0.000000   \n",
       "25%       0.000000          0.000000             0.000000     0.000000   \n",
       "50%       0.000000          0.000000             0.000000     0.000000   \n",
       "75%       0.000000          0.000000             0.000000     0.000000   \n",
       "max       1.000000          1.000000             1.000000     1.000000   \n",
       "\n",
       "       SORE THROAT     DIARRHEA       CHILLS     HEADACHE     VOMITING  \\\n",
       "count  1196.000000  1196.000000  1196.000000  1196.000000  1196.000000   \n",
       "mean      0.090301     0.022575     0.035117     0.153846     0.021739   \n",
       "std       0.286732     0.148607     0.184153     0.360952     0.145892   \n",
       "min       0.000000     0.000000     0.000000     0.000000     0.000000   \n",
       "25%       0.000000     0.000000     0.000000     0.000000     0.000000   \n",
       "50%       0.000000     0.000000     0.000000     0.000000     0.000000   \n",
       "75%       0.000000     0.000000     0.000000     0.000000     0.000000   \n",
       "max       1.000000     1.000000     1.000000     1.000000     1.000000   \n",
       "\n",
       "       LIVES_IN_AFFECTED_AREA  \n",
       "count             1196.000000  \n",
       "mean                 0.403846  \n",
       "std                  0.490873  \n",
       "min                  0.000000  \n",
       "25%                  0.000000  \n",
       "50%                  0.000000  \n",
       "75%                  1.000000  \n",
       "max                  1.000000  "
      ]
     },
     "execution_count": 26,
     "metadata": {},
     "output_type": "execute_result"
    }
   ],
   "source": [
    "x_train.describe()"
   ]
  },
  {
   "cell_type": "code",
   "execution_count": 27,
   "metadata": {},
   "outputs": [],
   "source": [
    "gnb = GaussianNB()\n",
    "KNN = KNeighborsClassifier(n_neighbors=1)\n",
    "MNB = MultinomialNB()\n",
    "BNB = BernoulliNB()\n",
    "LR = LogisticRegression()\n",
    "SDG = SGDClassifier()\n",
    "SVC = SVC()\n",
    "LSVC = LinearSVC()\n",
    "NSVC = NuSVC()"
   ]
  },
  {
   "cell_type": "code",
   "execution_count": 28,
   "metadata": {},
   "outputs": [
    {
     "name": "stdout",
     "output_type": "stream",
     "text": [
      "GaussianNB Accuracy : 0.7792642140468228\n"
     ]
    }
   ],
   "source": [
    "# Train our classifier and test predict\n",
    "gnb.fit(x_train, y_train)\n",
    "y2_GNB_model = gnb.predict(x_test)\n",
    "print(\"GaussianNB Accuracy :\", accuracy_score(y_test, y2_GNB_model))"
   ]
  },
  {
   "cell_type": "code",
   "execution_count": 29,
   "metadata": {},
   "outputs": [
    {
     "name": "stdout",
     "output_type": "stream",
     "text": [
      "KNN Accuracy : 0.6354515050167224\n"
     ]
    }
   ],
   "source": [
    "KNN.fit(x_train, y_train)\n",
    "y2_KNN_model = KNN.predict(x_test)\n",
    "print(\"KNN Accuracy :\", accuracy_score(y_test, y2_KNN_model))"
   ]
  },
  {
   "cell_type": "code",
   "execution_count": 30,
   "metadata": {},
   "outputs": [
    {
     "name": "stdout",
     "output_type": "stream",
     "text": [
      "BNB Accuracy : 0.7959866220735786\n"
     ]
    }
   ],
   "source": [
    "BNB.fit(x_train, y_train)\n",
    "y2_BNB_model = BNB.predict(x_test)\n",
    "print(\"BNB Accuracy :\", accuracy_score(y_test, y2_BNB_model))"
   ]
  },
  {
   "cell_type": "code",
   "execution_count": 31,
   "metadata": {},
   "outputs": [
    {
     "name": "stdout",
     "output_type": "stream",
     "text": [
      "LR Accuracy : 0.7892976588628763\n"
     ]
    },
    {
     "name": "stderr",
     "output_type": "stream",
     "text": [
      "C:\\Users\\LENOVO\\anaconda3\\lib\\site-packages\\sklearn\\linear_model\\_logistic.py:765: ConvergenceWarning: lbfgs failed to converge (status=1):\n",
      "STOP: TOTAL NO. of ITERATIONS REACHED LIMIT.\n",
      "\n",
      "Increase the number of iterations (max_iter) or scale the data as shown in:\n",
      "    https://scikit-learn.org/stable/modules/preprocessing.html\n",
      "Please also refer to the documentation for alternative solver options:\n",
      "    https://scikit-learn.org/stable/modules/linear_model.html#logistic-regression\n",
      "  extra_warning_msg=_LOGISTIC_SOLVER_CONVERGENCE_MSG)\n"
     ]
    }
   ],
   "source": [
    "LR.fit(x_train, y_train)\n",
    "y2_LR_model = LR.predict(x_test)\n",
    "print(\"LR Accuracy :\", accuracy_score(y_test, y2_LR_model))\n"
   ]
  },
  {
   "cell_type": "code",
   "execution_count": 32,
   "metadata": {},
   "outputs": [
    {
     "name": "stdout",
     "output_type": "stream",
     "text": [
      "SDG Accuracy : 0.5351170568561873\n"
     ]
    }
   ],
   "source": [
    "SDG.fit(x_train, y_train)\n",
    "y2_SDG_model = SDG.predict(x_test)\n",
    "print(\"SDG Accuracy :\", accuracy_score(y_test, y2_SDG_model))"
   ]
  },
  {
   "cell_type": "code",
   "execution_count": 33,
   "metadata": {},
   "outputs": [
    {
     "name": "stdout",
     "output_type": "stream",
     "text": [
      "SVC Accuracy : 0.48494983277591974\n"
     ]
    }
   ],
   "source": [
    "SVC.fit(x_train, y_train)\n",
    "y2_SVC_model = SVC.predict(x_test)\n",
    "print(\"SVC Accuracy :\", accuracy_score(y_test, y2_SVC_model))\n"
   ]
  },
  {
   "cell_type": "code",
   "execution_count": 34,
   "metadata": {},
   "outputs": [
    {
     "name": "stdout",
     "output_type": "stream",
     "text": [
      "LSVC Accuracy : 0.7959866220735786\n"
     ]
    },
    {
     "name": "stderr",
     "output_type": "stream",
     "text": [
      "C:\\Users\\LENOVO\\anaconda3\\lib\\site-packages\\sklearn\\svm\\_base.py:986: ConvergenceWarning: Liblinear failed to converge, increase the number of iterations.\n",
      "  \"the number of iterations.\", ConvergenceWarning)\n"
     ]
    }
   ],
   "source": [
    "LSVC.fit(x_train, y_train)\n",
    "y2_LSVC_model = LSVC.predict(x_test)\n",
    "print(\"LSVC Accuracy :\", accuracy_score(y_test, y2_LSVC_model))"
   ]
  },
  {
   "cell_type": "code",
   "execution_count": 35,
   "metadata": {},
   "outputs": [
    {
     "name": "stdout",
     "output_type": "stream",
     "text": [
      "NSVC Accuracy : 0.745819397993311\n"
     ]
    }
   ],
   "source": [
    "NSVC.fit(x_train, y_train)\n",
    "y2_NSVC_model = NSVC.predict(x_test)\n",
    "print(\"NSVC Accuracy :\", accuracy_score(y_test, y2_NSVC_model))"
   ]
  },
  {
   "cell_type": "code",
   "execution_count": 18,
   "metadata": {},
   "outputs": [
    {
     "name": "stdout",
     "output_type": "stream",
     "text": [
      "              precision    recall  f1-score   support\n",
      "\n",
      "           0     0.5385    0.9589    0.6897       146\n",
      "           1     0.8462    0.2157    0.3438       153\n",
      "\n",
      "    accuracy                         0.5786       299\n",
      "   macro avg     0.6923    0.5873    0.5167       299\n",
      "weighted avg     0.6959    0.5786    0.5127       299\n",
      "\n",
      "[[140   6]\n",
      " [120  33]]\n"
     ]
    },
    {
     "data": {
      "image/png": "[encoded data removed]",
      "text/plain": [
       "<Figure size 432x288 with 2 Axes>"
      ]
     },
     "metadata": {
      "needs_background": "light"
     },
     "output_type": "display_data"
    }
   ],
   "source": [
    "target_names = ['0','1']\n",
    "print(classification_report(y_test, y2_LSVC_model, target_names=target_names, sample_weight=None, digits=4))\n",
    "from sklearn.metrics import confusion_matrix\n",
    "confusion_matrix = confusion_matrix(y_test, y2_LSVC_model)\n",
    "print(confusion_matrix)\n",
    "sns.heatmap(confusion_matrix, annot=True)\n",
    "plt.show()\n"
   ]
  },
  {
   "cell_type": "code",
   "execution_count": 20,
   "metadata": {},
   "outputs": [
    {
     "data": {
      "text/plain": [
       "<module 'matplotlib.pyplot' from 'C:\\\\Users\\\\LENOVO\\\\anaconda3\\\\lib\\\\site-packages\\\\matplotlib\\\\pyplot.py'>"
      ]
     },
     "execution_count": 20,
     "metadata": {},
     "output_type": "execute_result"
    },
    {
     "data": {
      "image/png": "[encoded data removed]",
      "text/plain": [
       "<Figure size 432x288 with 1 Axes>"
      ]
     },
     "metadata": {
      "needs_background": "light"
     },
     "output_type": "display_data"
    }
   ],
   "source": [
    "import matplotlib.pyplot as plt\n",
    "from sklearn.model_selection import learning_curve\n",
    "from sklearn.model_selection import ShuffleSplit\n",
    "from sklearn.svm import SVC\n",
    "\n",
    "\n",
    "def plot_learning_curve(estimator, title, x_test, y_test, ylim=None, cv=None,\n",
    "                        n_jobs=1, train_sizes=np.linspace(.1, 1.0, 5)):\n",
    "    plt.figure()\n",
    "    plt.title(title)\n",
    "    if ylim is not None:\n",
    "        plt.ylim(*ylim)\n",
    "    plt.xlabel(\"Training examples\")\n",
    "    plt.ylabel(\"Score\")\n",
    "    train_sizes, train_scores, test_scores = learning_curve(\n",
    "        estimator, x_test, y_test, cv=cv, n_jobs=n_jobs, train_sizes=train_sizes)\n",
    "    train_scores_mean = np.mean(train_scores, axis=1)\n",
    "    train_scores_std = np.std(train_scores, axis=1)\n",
    "    test_scores_mean = np.mean(test_scores, axis=1)\n",
    "    test_scores_std = np.std(test_scores, axis=1)\n",
    "    plt.grid()\n",
    "\n",
    "    plt.fill_between(train_sizes, train_scores_mean - train_scores_std,\n",
    "                     train_scores_mean + train_scores_std, alpha=0.1,\n",
    "                     color=\"r\")\n",
    "    plt.fill_between(train_sizes, test_scores_mean - test_scores_std,\n",
    "                     test_scores_mean + test_scores_std, alpha=0.1, color=\"g\")\n",
    "    plt.plot(train_sizes, train_scores_mean, 'o-', color=\"r\",\n",
    "             label=\"Training score\")\n",
    "    plt.plot(train_sizes, test_scores_mean, 'o-', color=\"g\",\n",
    "             label=\"Cross-validation score\")\n",
    "\n",
    "    plt.legend(loc=\"best\")\n",
    "    return plt\n",
    "\n",
    "title = \"Learning Curves (SVM, Linear kernel, $\\gamma=0.001$)\"\n",
    "# SVC is more expensive so we do a lower number of CV iterations:\n",
    "cv = ShuffleSplit(n_splits=10, test_size=0.2, random_state=0)\n",
    "estimator = SVC(kernel=\"linear\",gamma=0.001)\n",
    "plot_learning_curve(estimator, title, x_test, y_test, (0.7, 1.01), cv=cv, n_jobs=4)\n"
   ]
  },
  {
   "cell_type": "code",
   "execution_count": null,
   "metadata": {},
   "outputs": [],
   "source": []
  },
  {
   "cell_type": "code",
   "execution_count": null,
   "metadata": {
    "scrolled": false
   },
   "outputs": [],
   "source": []
  },
  {
   "cell_type": "code",
   "execution_count": null,
   "metadata": {},
   "outputs": [],
   "source": []
  }
 ],
 "metadata": {
  "kernelspec": {
   "display_name": "Python 3",
   "language": "python",
   "name": "python3"
  },
  "language_info": {
   "codemirror_mode": {
    "name": "ipython",
    "version": 3
   },
   "file_extension": ".py",
   "mimetype": "text/x-python",
   "name": "python",
   "nbconvert_exporter": "python",
   "pygments_lexer": "ipython3",
   "version": "3.7.6"
  }
 },
 "nbformat": 4,
 "nbformat_minor": 4
}
