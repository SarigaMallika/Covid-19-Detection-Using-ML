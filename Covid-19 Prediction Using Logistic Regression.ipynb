{
 "cells": [
  {
   "cell_type": "code",
   "execution_count": 1,
   "metadata": {},
   "outputs": [],
   "source": [
    "import pandas as pd\n",
    "import numpy as np\n",
    "from sklearn import preprocessing\n",
    "import matplotlib.pyplot as plt \n",
    "plt.rc(\"font\", size=14)\n",
    "from sklearn.linear_model import LogisticRegression\n",
    "from sklearn.model_selection import train_test_split\n",
    "import seaborn as sns\n",
    "sns.set(style=\"white\")\n",
    "sns.set(style=\"whitegrid\", color_codes=True)"
   ]
  },
  {
   "cell_type": "code",
   "execution_count": 2,
   "metadata": {},
   "outputs": [
    {
     "name": "stdout",
     "output_type": "stream",
     "text": [
      "(1495, 16)\n",
      "['AGE', 'GENDER', 'FEVER', 'COUGH', 'FATIGUE', 'PAINS', 'NASAL_CONGESTION', 'SHORTNESS_OF_BREATH', 'RUNNY_NOSE', 'SORE THROAT', 'DIARRHEA', 'CHILLS', 'HEADACHE', 'VOMITING', 'LIVES_IN_AFFECTED_AREA', 'COVID_OUTPUT']\n"
     ]
    }
   ],
   "source": [
    "data= pd.read_csv('C:/Users/LENOVO/Downloads/COVID19-Probability-Symptoms-Checker-master111/COVID19-Probability-Symptoms-Checker-master/COVID-19/covid_final_data.csv')\n",
    "print(data.shape)\n",
    "print(list(data.columns))"
   ]
  },
  {
   "cell_type": "code",
   "execution_count": 3,
   "metadata": {},
   "outputs": [
    {
     "data": {
      "text/html": [
       "<div>\n",
       "<style scoped>\n",
       "    .dataframe tbody tr th:only-of-type {\n",
       "        vertical-align: middle;\n",
       "    }\n",
       "\n",
       "    .dataframe tbody tr th {\n",
       "        vertical-align: top;\n",
       "    }\n",
       "\n",
       "    .dataframe thead th {\n",
       "        text-align: right;\n",
       "    }\n",
       "</style>\n",
       "<table border=\"1\" class=\"dataframe\">\n",
       "  <thead>\n",
       "    <tr style=\"text-align: right;\">\n",
       "      <th></th>\n",
       "      <th>AGE</th>\n",
       "      <th>GENDER</th>\n",
       "      <th>FEVER</th>\n",
       "      <th>COUGH</th>\n",
       "      <th>FATIGUE</th>\n",
       "      <th>PAINS</th>\n",
       "      <th>NASAL_CONGESTION</th>\n",
       "      <th>SHORTNESS_OF_BREATH</th>\n",
       "      <th>RUNNY_NOSE</th>\n",
       "      <th>SORE THROAT</th>\n",
       "      <th>DIARRHEA</th>\n",
       "      <th>CHILLS</th>\n",
       "      <th>HEADACHE</th>\n",
       "      <th>VOMITING</th>\n",
       "      <th>LIVES_IN_AFFECTED_AREA</th>\n",
       "      <th>COVID_OUTPUT</th>\n",
       "    </tr>\n",
       "  </thead>\n",
       "  <tbody>\n",
       "    <tr>\n",
       "      <th>0</th>\n",
       "      <td>19</td>\n",
       "      <td>0</td>\n",
       "      <td>1</td>\n",
       "      <td>1</td>\n",
       "      <td>0</td>\n",
       "      <td>0</td>\n",
       "      <td>0</td>\n",
       "      <td>0</td>\n",
       "      <td>0</td>\n",
       "      <td>1</td>\n",
       "      <td>0</td>\n",
       "      <td>0</td>\n",
       "      <td>1</td>\n",
       "      <td>0</td>\n",
       "      <td>0</td>\n",
       "      <td>1</td>\n",
       "    </tr>\n",
       "    <tr>\n",
       "      <th>1</th>\n",
       "      <td>28</td>\n",
       "      <td>1</td>\n",
       "      <td>1</td>\n",
       "      <td>0</td>\n",
       "      <td>0</td>\n",
       "      <td>0</td>\n",
       "      <td>0</td>\n",
       "      <td>0</td>\n",
       "      <td>0</td>\n",
       "      <td>0</td>\n",
       "      <td>0</td>\n",
       "      <td>0</td>\n",
       "      <td>1</td>\n",
       "      <td>0</td>\n",
       "      <td>1</td>\n",
       "      <td>1</td>\n",
       "    </tr>\n",
       "    <tr>\n",
       "      <th>2</th>\n",
       "      <td>35</td>\n",
       "      <td>0</td>\n",
       "      <td>1</td>\n",
       "      <td>1</td>\n",
       "      <td>0</td>\n",
       "      <td>0</td>\n",
       "      <td>0</td>\n",
       "      <td>0</td>\n",
       "      <td>0</td>\n",
       "      <td>0</td>\n",
       "      <td>0</td>\n",
       "      <td>0</td>\n",
       "      <td>1</td>\n",
       "      <td>0</td>\n",
       "      <td>0</td>\n",
       "      <td>1</td>\n",
       "    </tr>\n",
       "    <tr>\n",
       "      <th>3</th>\n",
       "      <td>33</td>\n",
       "      <td>0</td>\n",
       "      <td>1</td>\n",
       "      <td>0</td>\n",
       "      <td>0</td>\n",
       "      <td>0</td>\n",
       "      <td>0</td>\n",
       "      <td>0</td>\n",
       "      <td>0</td>\n",
       "      <td>0</td>\n",
       "      <td>0</td>\n",
       "      <td>0</td>\n",
       "      <td>1</td>\n",
       "      <td>0</td>\n",
       "      <td>0</td>\n",
       "      <td>1</td>\n",
       "    </tr>\n",
       "    <tr>\n",
       "      <th>4</th>\n",
       "      <td>33</td>\n",
       "      <td>0</td>\n",
       "      <td>1</td>\n",
       "      <td>0</td>\n",
       "      <td>0</td>\n",
       "      <td>0</td>\n",
       "      <td>0</td>\n",
       "      <td>0</td>\n",
       "      <td>0</td>\n",
       "      <td>0</td>\n",
       "      <td>0</td>\n",
       "      <td>0</td>\n",
       "      <td>1</td>\n",
       "      <td>0</td>\n",
       "      <td>0</td>\n",
       "      <td>1</td>\n",
       "    </tr>\n",
       "  </tbody>\n",
       "</table>\n",
       "</div>"
      ],
      "text/plain": [
       "   AGE  GENDER  FEVER  COUGH  FATIGUE  PAINS  NASAL_CONGESTION  \\\n",
       "0   19       0      1      1        0      0                 0   \n",
       "1   28       1      1      0        0      0                 0   \n",
       "2   35       0      1      1        0      0                 0   \n",
       "3   33       0      1      0        0      0                 0   \n",
       "4   33       0      1      0        0      0                 0   \n",
       "\n",
       "   SHORTNESS_OF_BREATH  RUNNY_NOSE  SORE THROAT  DIARRHEA  CHILLS  HEADACHE  \\\n",
       "0                    0           0            1         0       0         1   \n",
       "1                    0           0            0         0       0         1   \n",
       "2                    0           0            0         0       0         1   \n",
       "3                    0           0            0         0       0         1   \n",
       "4                    0           0            0         0       0         1   \n",
       "\n",
       "   VOMITING  LIVES_IN_AFFECTED_AREA  COVID_OUTPUT  \n",
       "0         0                       0             1  \n",
       "1         0                       1             1  \n",
       "2         0                       0             1  \n",
       "3         0                       0             1  \n",
       "4         0                       0             1  "
      ]
     },
     "execution_count": 3,
     "metadata": {},
     "output_type": "execute_result"
    }
   ],
   "source": [
    "data.head()"
   ]
  },
  {
   "cell_type": "code",
   "execution_count": 4,
   "metadata": {},
   "outputs": [
    {
     "data": {
      "text/plain": [
       "1    757\n",
       "0    738\n",
       "Name: COVID_OUTPUT, dtype: int64"
      ]
     },
     "execution_count": 4,
     "metadata": {},
     "output_type": "execute_result"
    }
   ],
   "source": [
    "data['COVID_OUTPUT'].value_counts()\n"
   ]
  },
  {
   "cell_type": "code",
   "execution_count": 5,
   "metadata": {},
   "outputs": [
    {
     "data": {
      "image/png": "[encoded data removed]",
      "text/plain": [
       "<Figure size 432x288 with 1 Axes>"
      ]
     },
     "metadata": {},
     "output_type": "display_data"
    }
   ],
   "source": [
    "sns.countplot(x='COVID_OUTPUT',data=data,palette='hls')\n",
    "plt.show()"
   ]
  },
  {
   "cell_type": "code",
   "execution_count": 6,
   "metadata": {},
   "outputs": [
    {
     "name": "stdout",
     "output_type": "stream",
     "text": [
      "percentage of negative 49.36454849498328\n",
      "percentage of positive 50.635451505016725\n"
     ]
    }
   ],
   "source": [
    " count_no_sub = len(data[data['COVID_OUTPUT']==0])\n",
    "count_sub = len(data[data['COVID_OUTPUT']==1])\n",
    "pct_of_no_sub = count_no_sub/(count_no_sub+count_sub)\n",
    "print(\"percentage of negative\", pct_of_no_sub*100)\n",
    "pct_of_sub = count_sub/(count_no_sub+count_sub)\n",
    "print(\"percentage of positive\", pct_of_sub*100)"
   ]
  },
  {
   "cell_type": "code",
   "execution_count": 7,
   "metadata": {},
   "outputs": [
    {
     "data": {
      "text/html": [
       "<div>\n",
       "<style scoped>\n",
       "    .dataframe tbody tr th:only-of-type {\n",
       "        vertical-align: middle;\n",
       "    }\n",
       "\n",
       "    .dataframe tbody tr th {\n",
       "        vertical-align: top;\n",
       "    }\n",
       "\n",
       "    .dataframe thead th {\n",
       "        text-align: right;\n",
       "    }\n",
       "</style>\n",
       "<table border=\"1\" class=\"dataframe\">\n",
       "  <thead>\n",
       "    <tr style=\"text-align: right;\">\n",
       "      <th></th>\n",
       "      <th>AGE</th>\n",
       "      <th>GENDER</th>\n",
       "      <th>FEVER</th>\n",
       "      <th>COUGH</th>\n",
       "      <th>FATIGUE</th>\n",
       "      <th>PAINS</th>\n",
       "      <th>NASAL_CONGESTION</th>\n",
       "      <th>SHORTNESS_OF_BREATH</th>\n",
       "      <th>RUNNY_NOSE</th>\n",
       "      <th>SORE THROAT</th>\n",
       "      <th>DIARRHEA</th>\n",
       "      <th>CHILLS</th>\n",
       "      <th>HEADACHE</th>\n",
       "      <th>VOMITING</th>\n",
       "      <th>LIVES_IN_AFFECTED_AREA</th>\n",
       "    </tr>\n",
       "    <tr>\n",
       "      <th>COVID_OUTPUT</th>\n",
       "      <th></th>\n",
       "      <th></th>\n",
       "      <th></th>\n",
       "      <th></th>\n",
       "      <th></th>\n",
       "      <th></th>\n",
       "      <th></th>\n",
       "      <th></th>\n",
       "      <th></th>\n",
       "      <th></th>\n",
       "      <th></th>\n",
       "      <th></th>\n",
       "      <th></th>\n",
       "      <th></th>\n",
       "      <th></th>\n",
       "    </tr>\n",
       "  </thead>\n",
       "  <tbody>\n",
       "    <tr>\n",
       "      <th>0</th>\n",
       "      <td>50.411924</td>\n",
       "      <td>0.560976</td>\n",
       "      <td>0.230352</td>\n",
       "      <td>0.207317</td>\n",
       "      <td>0.028455</td>\n",
       "      <td>0.023035</td>\n",
       "      <td>0.023035</td>\n",
       "      <td>0.040650</td>\n",
       "      <td>0.042005</td>\n",
       "      <td>0.097561</td>\n",
       "      <td>0.014905</td>\n",
       "      <td>0.031165</td>\n",
       "      <td>0.260163</td>\n",
       "      <td>0.035230</td>\n",
       "      <td>0.247967</td>\n",
       "    </tr>\n",
       "    <tr>\n",
       "      <th>1</th>\n",
       "      <td>50.638045</td>\n",
       "      <td>0.574637</td>\n",
       "      <td>0.759577</td>\n",
       "      <td>0.409511</td>\n",
       "      <td>0.056803</td>\n",
       "      <td>0.043593</td>\n",
       "      <td>0.052840</td>\n",
       "      <td>0.047556</td>\n",
       "      <td>0.047556</td>\n",
       "      <td>0.092470</td>\n",
       "      <td>0.027741</td>\n",
       "      <td>0.036988</td>\n",
       "      <td>0.060766</td>\n",
       "      <td>0.014531</td>\n",
       "      <td>0.544254</td>\n",
       "    </tr>\n",
       "  </tbody>\n",
       "</table>\n",
       "</div>"
      ],
      "text/plain": [
       "                    AGE    GENDER     FEVER     COUGH   FATIGUE     PAINS  \\\n",
       "COVID_OUTPUT                                                                \n",
       "0             50.411924  0.560976  0.230352  0.207317  0.028455  0.023035   \n",
       "1             50.638045  0.574637  0.759577  0.409511  0.056803  0.043593   \n",
       "\n",
       "              NASAL_CONGESTION  SHORTNESS_OF_BREATH  RUNNY_NOSE  SORE THROAT  \\\n",
       "COVID_OUTPUT                                                                   \n",
       "0                     0.023035             0.040650    0.042005     0.097561   \n",
       "1                     0.052840             0.047556    0.047556     0.092470   \n",
       "\n",
       "              DIARRHEA    CHILLS  HEADACHE  VOMITING  LIVES_IN_AFFECTED_AREA  \n",
       "COVID_OUTPUT                                                                  \n",
       "0             0.014905  0.031165  0.260163  0.035230                0.247967  \n",
       "1             0.027741  0.036988  0.060766  0.014531                0.544254  "
      ]
     },
     "execution_count": 7,
     "metadata": {},
     "output_type": "execute_result"
    }
   ],
   "source": [
    "data.groupby('COVID_OUTPUT').mean()"
   ]
  },
  {
   "cell_type": "code",
   "execution_count": 8,
   "metadata": {},
   "outputs": [
    {
     "data": {
      "image/png": "[encoded data removed]",
      "text/plain": [
       "<Figure size 432x288 with 1 Axes>"
      ]
     },
     "metadata": {},
     "output_type": "display_data"
    }
   ],
   "source": [
    "plt.clf()\n",
    "plt.rcParams[\"figure.figsize\"] = [15,5]\n",
    "data.groupby(['COUGH','FEVER','SHORTNESS_OF_BREATH','SORE THROAT']).size().plot(kind='bar')\n",
    "plt.xlabel(\"\\n Possible Combinations of Fever, Cough, Sore Throat and Shortness of Breath\")\n",
    "plt.ylabel(\" Number of patients \\n\")\n",
    "plt.show()"
   ]
  },
  {
   "cell_type": "code",
   "execution_count": 9,
   "metadata": {},
   "outputs": [
    {
     "name": "stdout",
     "output_type": "stream",
     "text": [
      "Requirement already satisfied: imbalanced-learn in c:\\users\\lenovo\\anaconda3\\lib\\site-packages (0.7.0)\n",
      "Requirement already satisfied: numpy>=1.13.3 in c:\\users\\lenovo\\anaconda3\\lib\\site-packages (from imbalanced-learn) (1.18.1)\n",
      "Requirement already satisfied: scipy>=0.19.1 in c:\\users\\lenovo\\anaconda3\\lib\\site-packages (from imbalanced-learn) (1.4.1)\n",
      "Requirement already satisfied: scikit-learn>=0.23 in c:\\users\\lenovo\\anaconda3\\lib\\site-packages (from imbalanced-learn) (0.24.1)\n",
      "Requirement already satisfied: joblib>=0.11 in c:\\users\\lenovo\\anaconda3\\lib\\site-packages (from imbalanced-learn) (0.14.1)\n",
      "Requirement already satisfied: threadpoolctl>=2.0.0 in c:\\users\\lenovo\\anaconda3\\lib\\site-packages (from scikit-learn>=0.23->imbalanced-learn) (2.1.0)\n",
      "length of oversampled data is  1072\n",
      "Number of no subscription in oversampled data 536\n",
      "Number of subscription 536\n",
      "Proportion of negative in oversampled data is  0.5\n",
      "Proportion of positives data in oversampled data is  0.5\n"
     ]
    }
   ],
   "source": [
    "X = data.loc[:, data.columns != 'COVID_OUTPUT']\n",
    "y = data.loc[:, data.columns == 'COVID_OUTPUT']\n",
    "!pip install imbalanced-learn\n",
    "from imblearn.over_sampling import SMOTE\n",
    "os = SMOTE(random_state=0)\n",
    "X_train, X_test, y_train, y_test = train_test_split(X, y, test_size=0.3, random_state=0)\n",
    "columns = X_train.columns\n",
    "os_data_X,os_data_y=os.fit_sample(X_train, y_train)\n",
    "os_data_X = pd.DataFrame(data=os_data_X,columns=columns )\n",
    "os_data_y= pd.DataFrame(data=os_data_y,columns=['COVID_OUTPUT'])\n",
    "# we can Check the numbers of our data\n",
    "print(\"length of oversampled data is \",len(os_data_X))\n",
    "print(\"Number of no positives in oversampled data\",len(os_data_y[os_data_y['COVID_OUTPUT']==0]))\n",
    "print(\"Number of subscription\",len(os_data_y[os_data_y['COVID_OUTPUT']==1]))\n",
    "print(\"Proportion of negative in oversampled data is \",len(os_data_y[os_data_y['COVID_OUTPUT']==0])/len(os_data_X))\n",
    "print(\"Proportion of positives data in oversampled data is \",len(os_data_y[os_data_y['COVID_OUTPUT']==1])/len(os_data_X))\n"
   ]
  },
  {
   "cell_type": "code",
   "execution_count": 10,
   "metadata": {},
   "outputs": [
    {
     "name": "stdout",
     "output_type": "stream",
     "text": [
      "[ True  True  True  True  True  True  True  True  True  True  True  True\n",
      "  True  True  True]\n",
      "[1 1 1 1 1 1 1 1 1 1 1 1 1 1 1]\n"
     ]
    },
    {
     "name": "stderr",
     "output_type": "stream",
     "text": [
      "C:\\Users\\LENOVO\\anaconda3\\lib\\site-packages\\sklearn\\utils\\validation.py:72: FutureWarning: Pass n_features_to_select=20 as keyword args. From version 1.0 (renaming of 0.25) passing these as positional arguments will result in an error\n",
      "  \"will result in an error\", FutureWarning)\n",
      "C:\\Users\\LENOVO\\anaconda3\\lib\\site-packages\\sklearn\\linear_model\\_logistic.py:765: ConvergenceWarning: lbfgs failed to converge (status=1):\n",
      "STOP: TOTAL NO. of ITERATIONS REACHED LIMIT.\n",
      "\n",
      "Increase the number of iterations (max_iter) or scale the data as shown in:\n",
      "    https://scikit-learn.org/stable/modules/preprocessing.html\n",
      "Please also refer to the documentation for alternative solver options:\n",
      "    https://scikit-learn.org/stable/modules/linear_model.html#logistic-regression\n",
      "  extra_warning_msg=_LOGISTIC_SOLVER_CONVERGENCE_MSG)\n"
     ]
    }
   ],
   "source": [
    "data_vars=data.columns.values.tolist()\n",
    "y=['COVID_OUTPUT']\n",
    "X=[i for i in data_vars if i not in y]\n",
    "from sklearn.feature_selection import RFE\n",
    "from sklearn.linear_model import LogisticRegression\n",
    "logreg = LogisticRegression()\n",
    "rfe = RFE(logreg, 20)\n",
    "rfe = rfe.fit(os_data_X, os_data_y.values.ravel())\n",
    "print(rfe.support_)\n",
    "print(rfe.ranking_)\n"
   ]
  },
  {
   "cell_type": "code",
   "execution_count": 11,
   "metadata": {},
   "outputs": [],
   "source": [
    "cols=['AGE', 'GENDER', 'FEVER', 'COUGH', 'FATIGUE', 'PAINS', 'NASAL_CONGESTION', 'SHORTNESS_OF_BREATH', 'RUNNY_NOSE', 'SORE THROAT', 'DIARRHEA', 'CHILLS', 'HEADACHE', 'VOMITING', 'LIVES_IN_AFFECTED_AREA'] \n",
    "X=os_data_X[cols]\n",
    "y=os_data_y['COVID_OUTPUT']"
   ]
  },
  {
   "cell_type": "code",
   "execution_count": 12,
   "metadata": {},
   "outputs": [
    {
     "name": "stdout",
     "output_type": "stream",
     "text": [
      "Optimization terminated successfully.\n",
      "         Current function value: 0.453109\n",
      "         Iterations 6\n",
      "                            Results: Logit\n",
      "======================================================================\n",
      "Model:                Logit             Pseudo R-squared:  0.346      \n",
      "Dependent Variable:   COVID_OUTPUT      AIC:               1001.4651  \n",
      "Date:                 2021-01-21 19:15  BIC:               1076.1243  \n",
      "No. Observations:     1072              Log-Likelihood:    -485.73    \n",
      "Df Model:             14                LL-Null:           -743.05    \n",
      "Df Residuals:         1057              LLR p-value:       7.2869e-101\n",
      "Converged:            1.0000            Scale:             1.0000     \n",
      "No. Iterations:       6.0000                                          \n",
      "----------------------------------------------------------------------\n",
      "                        Coef.  Std.Err.    z    P>|z|   [0.025  0.975]\n",
      "----------------------------------------------------------------------\n",
      "AGE                    -0.0289   0.0030 -9.7060 0.0000 -0.0347 -0.0231\n",
      "GENDER                 -0.3959   0.1614 -2.4524 0.0142 -0.7122 -0.0795\n",
      "FEVER                   2.6617   0.1782 14.9356 0.0000  2.3124  3.0110\n",
      "COUGH                   0.8216   0.1885  4.3593 0.0000  0.4522  1.1910\n",
      "FATIGUE                 1.4676   0.4011  3.6589 0.0003  0.6814  2.2537\n",
      "PAINS                   0.8151   0.4941  1.6497 0.0990 -0.1533  1.7836\n",
      "NASAL_CONGESTION        1.1512   0.4462  2.5798 0.0099  0.2766  2.0258\n",
      "SHORTNESS_OF_BREATH     0.9509   0.3555  2.6745 0.0075  0.2541  1.6477\n",
      "RUNNY_NOSE             -0.0703   0.3908 -0.1798 0.8573 -0.8361  0.6956\n",
      "SORE THROAT            -0.0684   0.2684 -0.2547 0.7990 -0.5944  0.4577\n",
      "DIARRHEA                0.7160   0.5613  1.2756 0.2021 -0.3842  1.8161\n",
      "CHILLS                  0.6222   0.4199  1.4819 0.1384 -0.2007  1.4452\n",
      "HEADACHE               -2.2110   0.2700 -8.1879 0.0000 -2.7403 -1.6818\n",
      "VOMITING               -0.8518   0.5412 -1.5738 0.1155 -1.9126  0.2090\n",
      "LIVES_IN_AFFECTED_AREA  0.7932   0.1707  4.6456 0.0000  0.4585  1.1278\n",
      "======================================================================\n",
      "\n"
     ]
    }
   ],
   "source": [
    "import statsmodels.api as sm\n",
    "logit_model=sm.Logit(y,X)\n",
    "result=logit_model.fit()\n",
    "print(result.summary2())\n"
   ]
  },
  {
   "cell_type": "code",
   "execution_count": 13,
   "metadata": {},
   "outputs": [
    {
     "name": "stdout",
     "output_type": "stream",
     "text": [
      "Optimization terminated successfully.\n",
      "         Current function value: 0.453109\n",
      "         Iterations 6\n",
      "                            Results: Logit\n",
      "======================================================================\n",
      "Model:                Logit             Pseudo R-squared:  0.346      \n",
      "Dependent Variable:   COVID_OUTPUT      AIC:               1001.4651  \n",
      "Date:                 2021-01-21 19:15  BIC:               1076.1243  \n",
      "No. Observations:     1072              Log-Likelihood:    -485.73    \n",
      "Df Model:             14                LL-Null:           -743.05    \n",
      "Df Residuals:         1057              LLR p-value:       7.2869e-101\n",
      "Converged:            1.0000            Scale:             1.0000     \n",
      "No. Iterations:       6.0000                                          \n",
      "----------------------------------------------------------------------\n",
      "                        Coef.  Std.Err.    z    P>|z|   [0.025  0.975]\n",
      "----------------------------------------------------------------------\n",
      "AGE                    -0.0289   0.0030 -9.7060 0.0000 -0.0347 -0.0231\n",
      "GENDER                 -0.3959   0.1614 -2.4524 0.0142 -0.7122 -0.0795\n",
      "FEVER                   2.6617   0.1782 14.9356 0.0000  2.3124  3.0110\n",
      "COUGH                   0.8216   0.1885  4.3593 0.0000  0.4522  1.1910\n",
      "FATIGUE                 1.4676   0.4011  3.6589 0.0003  0.6814  2.2537\n",
      "PAINS                   0.8151   0.4941  1.6497 0.0990 -0.1533  1.7836\n",
      "NASAL_CONGESTION        1.1512   0.4462  2.5798 0.0099  0.2766  2.0258\n",
      "SHORTNESS_OF_BREATH     0.9509   0.3555  2.6745 0.0075  0.2541  1.6477\n",
      "RUNNY_NOSE             -0.0703   0.3908 -0.1798 0.8573 -0.8361  0.6956\n",
      "SORE THROAT            -0.0684   0.2684 -0.2547 0.7990 -0.5944  0.4577\n",
      "DIARRHEA                0.7160   0.5613  1.2756 0.2021 -0.3842  1.8161\n",
      "CHILLS                  0.6222   0.4199  1.4819 0.1384 -0.2007  1.4452\n",
      "HEADACHE               -2.2110   0.2700 -8.1879 0.0000 -2.7403 -1.6818\n",
      "VOMITING               -0.8518   0.5412 -1.5738 0.1155 -1.9126  0.2090\n",
      "LIVES_IN_AFFECTED_AREA  0.7932   0.1707  4.6456 0.0000  0.4585  1.1278\n",
      "======================================================================\n",
      "\n"
     ]
    }
   ],
   "source": [
    "cols=['AGE', 'GENDER', 'FEVER', 'COUGH', 'FATIGUE', 'PAINS', 'NASAL_CONGESTION', 'SHORTNESS_OF_BREATH', 'RUNNY_NOSE', 'SORE THROAT', 'DIARRHEA', 'CHILLS', 'HEADACHE', 'VOMITING', 'LIVES_IN_AFFECTED_AREA'] \n",
    "X=os_data_X[cols]\n",
    "y=os_data_y['COVID_OUTPUT']\n",
    "logit_model=sm.Logit(y,X)\n",
    "result=logit_model.fit()\n",
    "print(result.summary2())"
   ]
  },
  {
   "cell_type": "code",
   "execution_count": 14,
   "metadata": {},
   "outputs": [
    {
     "data": {
      "text/plain": [
       "LogisticRegression()"
      ]
     },
     "execution_count": 14,
     "metadata": {},
     "output_type": "execute_result"
    }
   ],
   "source": [
    "from sklearn.linear_model import LogisticRegression\n",
    "from sklearn import metrics\n",
    "X_train, X_test, y_train, y_test = train_test_split(X, y, test_size=0.3, random_state=0)\n",
    "logreg = LogisticRegression()\n",
    "logreg.fit(X_train, y_train)\n"
   ]
  },
  {
   "cell_type": "code",
   "execution_count": 15,
   "metadata": {},
   "outputs": [],
   "source": [
    "#Accuracy of logistic regression classifier on test set"
   ]
  },
  {
   "cell_type": "code",
   "execution_count": 16,
   "metadata": {},
   "outputs": [
    {
     "name": "stdout",
     "output_type": "stream",
     "text": [
      "Accuracy of logistic regression classifier on test set: 0.79\n"
     ]
    }
   ],
   "source": [
    "y_pred = logreg.predict(X_test)\n",
    "print('Accuracy of logistic regression classifier on test set: {:.2f}'.format(logreg.score(X_test, y_test)))"
   ]
  },
  {
   "cell_type": "code",
   "execution_count": 17,
   "metadata": {},
   "outputs": [],
   "source": [
    "#confusion Matrix"
   ]
  },
  {
   "cell_type": "code",
   "execution_count": 19,
   "metadata": {},
   "outputs": [
    {
     "name": "stdout",
     "output_type": "stream",
     "text": [
      "[[124  35]\n",
      " [ 32 131]]\n"
     ]
    },
    {
     "data": {
      "image/png": "[encoded data removed]",
      "text/plain": [
       "<Figure size 1080x360 with 2 Axes>"
      ]
     },
     "metadata": {},
     "output_type": "display_data"
    }
   ],
   "source": [
    "from sklearn.metrics import confusion_matrix\n",
    "confusion_matrix = confusion_matrix(y_test, y_pred)\n",
    "print(confusion_matrix)\n",
    "sns.heatmap(confusion_matrix, annot=True)\n",
    "plt.show()"
   ]
  },
  {
   "cell_type": "code",
   "execution_count": 19,
   "metadata": {},
   "outputs": [],
   "source": [
    "#precision, recall, F-measure and support"
   ]
  },
  {
   "cell_type": "code",
   "execution_count": 20,
   "metadata": {},
   "outputs": [
    {
     "name": "stdout",
     "output_type": "stream",
     "text": [
      "              precision    recall  f1-score   support\n",
      "\n",
      "           0       0.79      0.78      0.79       159\n",
      "           1       0.79      0.80      0.80       163\n",
      "\n",
      "    accuracy                           0.79       322\n",
      "   macro avg       0.79      0.79      0.79       322\n",
      "weighted avg       0.79      0.79      0.79       322\n",
      "\n"
     ]
    }
   ],
   "source": [
    "from sklearn.metrics import classification_report\n",
    "print(classification_report(y_test, y_pred))"
   ]
  },
  {
   "cell_type": "code",
   "execution_count": 21,
   "metadata": {},
   "outputs": [],
   "source": [
    "#ROC Curve"
   ]
  },
  {
   "cell_type": "code",
   "execution_count": 22,
   "metadata": {},
   "outputs": [
    {
     "data": {
      "image/png": "[encoded data removed]",
      "text/plain": [
       "<Figure size 1080x360 with 1 Axes>"
      ]
     },
     "metadata": {},
     "output_type": "display_data"
    }
   ],
   "source": [
    "from sklearn.metrics import roc_auc_score\n",
    "from sklearn.metrics import roc_curve\n",
    "logit_roc_auc = roc_auc_score(y_test, logreg.predict(X_test))\n",
    "fpr, tpr, thresholds = roc_curve(y_test, logreg.predict_proba(X_test)[:,1])\n",
    "plt.figure()\n",
    "plt.plot(fpr, tpr, label='Logistic Regression (area = %0.2f)' % logit_roc_auc)\n",
    "plt.plot([0, 1], [0, 1],'r--')\n",
    "plt.xlim([0.0, 1.0])\n",
    "plt.ylim([0.0, 1.05])\n",
    "plt.xlabel('False Positive Rate')\n",
    "plt.ylabel('True Positive Rate')\n",
    "plt.title('Receiver operating characteristic')\n",
    "plt.legend(loc=\"lower right\")\n",
    "plt.savefig('Log_ROC')\n",
    "plt.show()\n"
   ]
  },
  {
   "cell_type": "code",
   "execution_count": null,
   "metadata": {},
   "outputs": [],
   "source": []
  },
  {
   "cell_type": "code",
   "execution_count": null,
   "metadata": {},
   "outputs": [],
   "source": []
  }
 ],
 "metadata": {
  "kernelspec": {
   "display_name": "Python 3",
   "language": "python",
   "name": "python3"
  },
  "language_info": {
   "codemirror_mode": {
    "name": "ipython",
    "version": 3
   },
   "file_extension": ".py",
   "mimetype": "text/x-python",
   "name": "python",
   "nbconvert_exporter": "python",
   "pygments_lexer": "ipython3",
   "version": "3.7.6"
  }
 },
 "nbformat": 4,
 "nbformat_minor": 4
}
