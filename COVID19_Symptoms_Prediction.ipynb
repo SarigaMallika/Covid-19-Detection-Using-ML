{
 "cells": [
  {
   "cell_type": "code",
   "execution_count": 5,
   "metadata": {
    "id": "xCaO4AbbQ1QM"
   },
   "outputs": [],
   "source": [
    "import numpy as np\n",
    "import pandas as pd\n",
    "import seaborn as sns\n",
    "import matplotlib.pyplot as plt\n",
    "from sklearn.metrics import accuracy_score,plot_roc_curve\n",
    "%matplotlib inline\n",
    "import warnings\n",
    "warnings.simplefilter('ignore')\n",
    "from sklearn.linear_model import LogisticRegression\n",
    "from sklearn.ensemble import RandomForestClassifier\n",
    "from sklearn.tree import DecisionTreeClassifier\n",
    "from sklearn.naive_bayes import GaussianNB\n",
    "from sklearn.svm import LinearSVC\n"
   ]
  },
  {
   "cell_type": "markdown",
   "metadata": {
    "id": "5z-1KL-QQ1QO"
   },
   "source": [
    "### Importing the dataset"
   ]
  },
  {
   "cell_type": "code",
   "execution_count": 6,
   "metadata": {
    "id": "ZhMw_f9zQ1QO"
   },
   "outputs": [],
   "source": [
    "#Reading the DataSet\n",
    "df = pd.read_csv('C:/Users/LENOVO/Downloads/COVID19-Probability-Symptoms-Checker-master111/COVID19-Probability-Symptoms-Checker-master/COVID-19/covid_final_data.csv')"
   ]
  },
  {
   "cell_type": "markdown",
   "metadata": {
    "id": "swoRoQ1pQ1P-"
   },
   "source": [
    "### Importing the packages"
   ]
  },
  {
   "cell_type": "markdown",
   "metadata": {
    "id": "bpOuQWIVQ1QP"
   },
   "source": [
    "### Dataset Attributes\n"
   ]
  },
  {
   "cell_type": "code",
   "execution_count": 7,
   "metadata": {
    "id": "BGqAiEQcQ1QQ"
   },
   "outputs": [
    {
     "data": {
      "text/plain": [
       "Index(['AGE', 'GENDER', 'FEVER', 'COUGH', 'FATIGUE', 'PAINS',\n",
       "       'NASAL_CONGESTION', 'SHORTNESS_OF_BREATH', 'RUNNY_NOSE', 'SORE THROAT',\n",
       "       'DIARRHEA', 'CHILLS', 'HEADACHE', 'VOMITING', 'LIVES_IN_AFFECTED_AREA',\n",
       "       'COVID_OUTPUT'],\n",
       "      dtype='object')"
      ]
     },
     "execution_count": 7,
     "metadata": {},
     "output_type": "execute_result"
    }
   ],
   "source": [
    "df.columns"
   ]
  },
  {
   "cell_type": "markdown",
   "metadata": {
    "id": "Q7OWBEvnQ1QS"
   },
   "source": [
    "**Patient's Attribute**\n",
    "\n",
    "```\n",
    "1. Age: Patient's Age\n",
    "2. Gender: Male(1) or Female (0)\n",
    "3. Fever: Yes(1) or No(0)\n",
    "4. Cough: Yes(1) or No(0)\n",
    "5. Fatigue: Yes(1) or No(0)\n",
    "6. Pains: Yes(1) or No(0)\n",
    "7. Nasal Congestion: Yes(1) or No(0)\n",
    "8. Shortness of Breath: Yes(1) or No(0)\n",
    "9. Runny Nose: Yes(1) or No(0)\n",
    "10. Sore Throat: Yes(1) or No(0)\n",
    "11. Diarrhea: Yes(1) or No(0)\n",
    "12. Chills: Yes(1) or No(0)\n",
    "13. Headache: Yes(1) or No(0)\n",
    "14. Vomiting: Yes(1) or No(0)\n",
    "15. Lives in affected area: Yes(1) or No(0)\n",
    "---------------------------------------------\n",
    "16. Covid Output: Yes(1) or No(0)\n",
    "```"
   ]
  },
  {
   "cell_type": "code",
   "execution_count": 8,
   "metadata": {
    "id": "XYRvXVmkQ1QT"
   },
   "outputs": [
    {
     "data": {
      "text/html": [
       "<div>\n",
       "<style scoped>\n",
       "    .dataframe tbody tr th:only-of-type {\n",
       "        vertical-align: middle;\n",
       "    }\n",
       "\n",
       "    .dataframe tbody tr th {\n",
       "        vertical-align: top;\n",
       "    }\n",
       "\n",
       "    .dataframe thead th {\n",
       "        text-align: right;\n",
       "    }\n",
       "</style>\n",
       "<table border=\"1\" class=\"dataframe\">\n",
       "  <thead>\n",
       "    <tr style=\"text-align: right;\">\n",
       "      <th></th>\n",
       "      <th>AGE</th>\n",
       "      <th>GENDER</th>\n",
       "      <th>FEVER</th>\n",
       "      <th>COUGH</th>\n",
       "      <th>FATIGUE</th>\n",
       "      <th>PAINS</th>\n",
       "      <th>NASAL_CONGESTION</th>\n",
       "      <th>SHORTNESS_OF_BREATH</th>\n",
       "      <th>RUNNY_NOSE</th>\n",
       "      <th>SORE THROAT</th>\n",
       "      <th>DIARRHEA</th>\n",
       "      <th>CHILLS</th>\n",
       "      <th>HEADACHE</th>\n",
       "      <th>VOMITING</th>\n",
       "      <th>LIVES_IN_AFFECTED_AREA</th>\n",
       "      <th>COVID_OUTPUT</th>\n",
       "    </tr>\n",
       "  </thead>\n",
       "  <tbody>\n",
       "    <tr>\n",
       "      <th>0</th>\n",
       "      <td>19</td>\n",
       "      <td>0</td>\n",
       "      <td>1</td>\n",
       "      <td>1</td>\n",
       "      <td>0</td>\n",
       "      <td>0</td>\n",
       "      <td>0</td>\n",
       "      <td>0</td>\n",
       "      <td>0</td>\n",
       "      <td>1</td>\n",
       "      <td>0</td>\n",
       "      <td>0</td>\n",
       "      <td>1</td>\n",
       "      <td>0</td>\n",
       "      <td>0</td>\n",
       "      <td>1</td>\n",
       "    </tr>\n",
       "    <tr>\n",
       "      <th>1</th>\n",
       "      <td>28</td>\n",
       "      <td>1</td>\n",
       "      <td>1</td>\n",
       "      <td>0</td>\n",
       "      <td>0</td>\n",
       "      <td>0</td>\n",
       "      <td>0</td>\n",
       "      <td>0</td>\n",
       "      <td>0</td>\n",
       "      <td>0</td>\n",
       "      <td>0</td>\n",
       "      <td>0</td>\n",
       "      <td>1</td>\n",
       "      <td>0</td>\n",
       "      <td>1</td>\n",
       "      <td>1</td>\n",
       "    </tr>\n",
       "    <tr>\n",
       "      <th>2</th>\n",
       "      <td>35</td>\n",
       "      <td>0</td>\n",
       "      <td>1</td>\n",
       "      <td>1</td>\n",
       "      <td>0</td>\n",
       "      <td>0</td>\n",
       "      <td>0</td>\n",
       "      <td>0</td>\n",
       "      <td>0</td>\n",
       "      <td>0</td>\n",
       "      <td>0</td>\n",
       "      <td>0</td>\n",
       "      <td>1</td>\n",
       "      <td>0</td>\n",
       "      <td>0</td>\n",
       "      <td>1</td>\n",
       "    </tr>\n",
       "    <tr>\n",
       "      <th>3</th>\n",
       "      <td>33</td>\n",
       "      <td>0</td>\n",
       "      <td>1</td>\n",
       "      <td>0</td>\n",
       "      <td>0</td>\n",
       "      <td>0</td>\n",
       "      <td>0</td>\n",
       "      <td>0</td>\n",
       "      <td>0</td>\n",
       "      <td>0</td>\n",
       "      <td>0</td>\n",
       "      <td>0</td>\n",
       "      <td>1</td>\n",
       "      <td>0</td>\n",
       "      <td>0</td>\n",
       "      <td>1</td>\n",
       "    </tr>\n",
       "    <tr>\n",
       "      <th>4</th>\n",
       "      <td>33</td>\n",
       "      <td>0</td>\n",
       "      <td>1</td>\n",
       "      <td>0</td>\n",
       "      <td>0</td>\n",
       "      <td>0</td>\n",
       "      <td>0</td>\n",
       "      <td>0</td>\n",
       "      <td>0</td>\n",
       "      <td>0</td>\n",
       "      <td>0</td>\n",
       "      <td>0</td>\n",
       "      <td>1</td>\n",
       "      <td>0</td>\n",
       "      <td>0</td>\n",
       "      <td>1</td>\n",
       "    </tr>\n",
       "    <tr>\n",
       "      <th>5</th>\n",
       "      <td>87</td>\n",
       "      <td>0</td>\n",
       "      <td>1</td>\n",
       "      <td>0</td>\n",
       "      <td>1</td>\n",
       "      <td>0</td>\n",
       "      <td>0</td>\n",
       "      <td>0</td>\n",
       "      <td>0</td>\n",
       "      <td>0</td>\n",
       "      <td>0</td>\n",
       "      <td>0</td>\n",
       "      <td>1</td>\n",
       "      <td>0</td>\n",
       "      <td>0</td>\n",
       "      <td>1</td>\n",
       "    </tr>\n",
       "    <tr>\n",
       "      <th>6</th>\n",
       "      <td>55</td>\n",
       "      <td>0</td>\n",
       "      <td>1</td>\n",
       "      <td>0</td>\n",
       "      <td>0</td>\n",
       "      <td>0</td>\n",
       "      <td>0</td>\n",
       "      <td>0</td>\n",
       "      <td>1</td>\n",
       "      <td>0</td>\n",
       "      <td>0</td>\n",
       "      <td>0</td>\n",
       "      <td>1</td>\n",
       "      <td>0</td>\n",
       "      <td>0</td>\n",
       "      <td>1</td>\n",
       "    </tr>\n",
       "    <tr>\n",
       "      <th>7</th>\n",
       "      <td>60</td>\n",
       "      <td>0</td>\n",
       "      <td>1</td>\n",
       "      <td>0</td>\n",
       "      <td>0</td>\n",
       "      <td>0</td>\n",
       "      <td>0</td>\n",
       "      <td>0</td>\n",
       "      <td>0</td>\n",
       "      <td>0</td>\n",
       "      <td>0</td>\n",
       "      <td>0</td>\n",
       "      <td>1</td>\n",
       "      <td>0</td>\n",
       "      <td>0</td>\n",
       "      <td>1</td>\n",
       "    </tr>\n",
       "    <tr>\n",
       "      <th>8</th>\n",
       "      <td>66</td>\n",
       "      <td>1</td>\n",
       "      <td>1</td>\n",
       "      <td>1</td>\n",
       "      <td>1</td>\n",
       "      <td>0</td>\n",
       "      <td>0</td>\n",
       "      <td>0</td>\n",
       "      <td>0</td>\n",
       "      <td>0</td>\n",
       "      <td>0</td>\n",
       "      <td>0</td>\n",
       "      <td>1</td>\n",
       "      <td>0</td>\n",
       "      <td>0</td>\n",
       "      <td>1</td>\n",
       "    </tr>\n",
       "    <tr>\n",
       "      <th>9</th>\n",
       "      <td>57</td>\n",
       "      <td>1</td>\n",
       "      <td>1</td>\n",
       "      <td>0</td>\n",
       "      <td>0</td>\n",
       "      <td>0</td>\n",
       "      <td>0</td>\n",
       "      <td>0</td>\n",
       "      <td>0</td>\n",
       "      <td>1</td>\n",
       "      <td>0</td>\n",
       "      <td>0</td>\n",
       "      <td>1</td>\n",
       "      <td>0</td>\n",
       "      <td>0</td>\n",
       "      <td>1</td>\n",
       "    </tr>\n",
       "  </tbody>\n",
       "</table>\n",
       "</div>"
      ],
      "text/plain": [
       "   AGE  GENDER  FEVER  COUGH  FATIGUE  PAINS  NASAL_CONGESTION  \\\n",
       "0   19       0      1      1        0      0                 0   \n",
       "1   28       1      1      0        0      0                 0   \n",
       "2   35       0      1      1        0      0                 0   \n",
       "3   33       0      1      0        0      0                 0   \n",
       "4   33       0      1      0        0      0                 0   \n",
       "5   87       0      1      0        1      0                 0   \n",
       "6   55       0      1      0        0      0                 0   \n",
       "7   60       0      1      0        0      0                 0   \n",
       "8   66       1      1      1        1      0                 0   \n",
       "9   57       1      1      0        0      0                 0   \n",
       "\n",
       "   SHORTNESS_OF_BREATH  RUNNY_NOSE  SORE THROAT  DIARRHEA  CHILLS  HEADACHE  \\\n",
       "0                    0           0            1         0       0         1   \n",
       "1                    0           0            0         0       0         1   \n",
       "2                    0           0            0         0       0         1   \n",
       "3                    0           0            0         0       0         1   \n",
       "4                    0           0            0         0       0         1   \n",
       "5                    0           0            0         0       0         1   \n",
       "6                    0           1            0         0       0         1   \n",
       "7                    0           0            0         0       0         1   \n",
       "8                    0           0            0         0       0         1   \n",
       "9                    0           0            1         0       0         1   \n",
       "\n",
       "   VOMITING  LIVES_IN_AFFECTED_AREA  COVID_OUTPUT  \n",
       "0         0                       0             1  \n",
       "1         0                       1             1  \n",
       "2         0                       0             1  \n",
       "3         0                       0             1  \n",
       "4         0                       0             1  \n",
       "5         0                       0             1  \n",
       "6         0                       0             1  \n",
       "7         0                       0             1  \n",
       "8         0                       0             1  \n",
       "9         0                       0             1  "
      ]
     },
     "execution_count": 8,
     "metadata": {},
     "output_type": "execute_result"
    }
   ],
   "source": [
    "df.head(10)"
   ]
  },
  {
   "cell_type": "markdown",
   "metadata": {
    "id": "4i80elKhQ1QT"
   },
   "source": [
    "### Correlation Matrix"
   ]
  },
  {
   "cell_type": "code",
   "execution_count": 9,
   "metadata": {
    "id": "iDBptGPcQ1QU"
   },
   "outputs": [
    {
     "data": {
      "text/html": [
       "<div>\n",
       "<style scoped>\n",
       "    .dataframe tbody tr th:only-of-type {\n",
       "        vertical-align: middle;\n",
       "    }\n",
       "\n",
       "    .dataframe tbody tr th {\n",
       "        vertical-align: top;\n",
       "    }\n",
       "\n",
       "    .dataframe thead th {\n",
       "        text-align: right;\n",
       "    }\n",
       "</style>\n",
       "<table border=\"1\" class=\"dataframe\">\n",
       "  <thead>\n",
       "    <tr style=\"text-align: right;\">\n",
       "      <th></th>\n",
       "      <th>AGE</th>\n",
       "      <th>GENDER</th>\n",
       "      <th>FEVER</th>\n",
       "      <th>COUGH</th>\n",
       "      <th>FATIGUE</th>\n",
       "      <th>PAINS</th>\n",
       "      <th>NASAL_CONGESTION</th>\n",
       "      <th>SHORTNESS_OF_BREATH</th>\n",
       "      <th>RUNNY_NOSE</th>\n",
       "      <th>SORE THROAT</th>\n",
       "      <th>DIARRHEA</th>\n",
       "      <th>CHILLS</th>\n",
       "      <th>HEADACHE</th>\n",
       "      <th>VOMITING</th>\n",
       "      <th>LIVES_IN_AFFECTED_AREA</th>\n",
       "      <th>COVID_OUTPUT</th>\n",
       "    </tr>\n",
       "  </thead>\n",
       "  <tbody>\n",
       "    <tr>\n",
       "      <th>AGE</th>\n",
       "      <td>1.000000</td>\n",
       "      <td>0.074382</td>\n",
       "      <td>0.022943</td>\n",
       "      <td>0.047645</td>\n",
       "      <td>0.097993</td>\n",
       "      <td>0.081185</td>\n",
       "      <td>0.130204</td>\n",
       "      <td>-0.031658</td>\n",
       "      <td>-0.021785</td>\n",
       "      <td>-0.105755</td>\n",
       "      <td>-0.048191</td>\n",
       "      <td>0.023023</td>\n",
       "      <td>0.016395</td>\n",
       "      <td>0.022586</td>\n",
       "      <td>-0.000310</td>\n",
       "      <td>0.006081</td>\n",
       "    </tr>\n",
       "    <tr>\n",
       "      <th>GENDER</th>\n",
       "      <td>0.074382</td>\n",
       "      <td>1.000000</td>\n",
       "      <td>0.053795</td>\n",
       "      <td>0.003112</td>\n",
       "      <td>-0.048996</td>\n",
       "      <td>-0.010474</td>\n",
       "      <td>0.011494</td>\n",
       "      <td>-0.016308</td>\n",
       "      <td>-0.052529</td>\n",
       "      <td>-0.062823</td>\n",
       "      <td>0.017050</td>\n",
       "      <td>-0.014599</td>\n",
       "      <td>-0.022730</td>\n",
       "      <td>0.025970</td>\n",
       "      <td>0.212699</td>\n",
       "      <td>0.013788</td>\n",
       "    </tr>\n",
       "    <tr>\n",
       "      <th>FEVER</th>\n",
       "      <td>0.022943</td>\n",
       "      <td>0.053795</td>\n",
       "      <td>1.000000</td>\n",
       "      <td>0.191755</td>\n",
       "      <td>-0.005902</td>\n",
       "      <td>0.060148</td>\n",
       "      <td>0.004159</td>\n",
       "      <td>-0.123018</td>\n",
       "      <td>0.010423</td>\n",
       "      <td>0.001083</td>\n",
       "      <td>0.009738</td>\n",
       "      <td>-0.017796</td>\n",
       "      <td>-0.068020</td>\n",
       "      <td>-0.020995</td>\n",
       "      <td>0.187202</td>\n",
       "      <td>0.529185</td>\n",
       "    </tr>\n",
       "    <tr>\n",
       "      <th>COUGH</th>\n",
       "      <td>0.047645</td>\n",
       "      <td>0.003112</td>\n",
       "      <td>0.191755</td>\n",
       "      <td>1.000000</td>\n",
       "      <td>-0.027305</td>\n",
       "      <td>0.052422</td>\n",
       "      <td>0.070611</td>\n",
       "      <td>-0.080566</td>\n",
       "      <td>0.029718</td>\n",
       "      <td>0.019849</td>\n",
       "      <td>0.020887</td>\n",
       "      <td>-0.030242</td>\n",
       "      <td>0.056511</td>\n",
       "      <td>0.014351</td>\n",
       "      <td>-0.030356</td>\n",
       "      <td>0.218632</td>\n",
       "    </tr>\n",
       "    <tr>\n",
       "      <th>FATIGUE</th>\n",
       "      <td>0.097993</td>\n",
       "      <td>-0.048996</td>\n",
       "      <td>-0.005902</td>\n",
       "      <td>-0.027305</td>\n",
       "      <td>1.000000</td>\n",
       "      <td>0.015797</td>\n",
       "      <td>-0.007595</td>\n",
       "      <td>-0.045449</td>\n",
       "      <td>-0.029837</td>\n",
       "      <td>0.010381</td>\n",
       "      <td>0.037218</td>\n",
       "      <td>0.033071</td>\n",
       "      <td>0.007328</td>\n",
       "      <td>0.008849</td>\n",
       "      <td>-0.016685</td>\n",
       "      <td>0.070014</td>\n",
       "    </tr>\n",
       "    <tr>\n",
       "      <th>PAINS</th>\n",
       "      <td>0.081185</td>\n",
       "      <td>-0.010474</td>\n",
       "      <td>0.060148</td>\n",
       "      <td>0.052422</td>\n",
       "      <td>0.015797</td>\n",
       "      <td>1.000000</td>\n",
       "      <td>0.040673</td>\n",
       "      <td>0.014355</td>\n",
       "      <td>0.031633</td>\n",
       "      <td>-0.009506</td>\n",
       "      <td>0.023900</td>\n",
       "      <td>-0.034958</td>\n",
       "      <td>-0.030098</td>\n",
       "      <td>-0.005686</td>\n",
       "      <td>-0.037240</td>\n",
       "      <td>0.057166</td>\n",
       "    </tr>\n",
       "    <tr>\n",
       "      <th>NASAL_CONGESTION</th>\n",
       "      <td>0.130204</td>\n",
       "      <td>0.011494</td>\n",
       "      <td>0.004159</td>\n",
       "      <td>0.070611</td>\n",
       "      <td>-0.007595</td>\n",
       "      <td>0.040673</td>\n",
       "      <td>1.000000</td>\n",
       "      <td>-0.042787</td>\n",
       "      <td>-0.043125</td>\n",
       "      <td>-0.040672</td>\n",
       "      <td>0.042957</td>\n",
       "      <td>0.020311</td>\n",
       "      <td>-0.048444</td>\n",
       "      <td>-0.009234</td>\n",
       "      <td>0.066466</td>\n",
       "      <td>0.077812</td>\n",
       "    </tr>\n",
       "    <tr>\n",
       "      <th>SHORTNESS_OF_BREATH</th>\n",
       "      <td>-0.031658</td>\n",
       "      <td>-0.016308</td>\n",
       "      <td>-0.123018</td>\n",
       "      <td>-0.080566</td>\n",
       "      <td>-0.045449</td>\n",
       "      <td>0.014355</td>\n",
       "      <td>-0.042787</td>\n",
       "      <td>1.000000</td>\n",
       "      <td>-0.046551</td>\n",
       "      <td>-0.047411</td>\n",
       "      <td>-0.009285</td>\n",
       "      <td>-0.022450</td>\n",
       "      <td>-0.093514</td>\n",
       "      <td>-0.034236</td>\n",
       "      <td>0.024829</td>\n",
       "      <td>0.016807</td>\n",
       "    </tr>\n",
       "    <tr>\n",
       "      <th>RUNNY_NOSE</th>\n",
       "      <td>-0.021785</td>\n",
       "      <td>-0.052529</td>\n",
       "      <td>0.010423</td>\n",
       "      <td>0.029718</td>\n",
       "      <td>-0.029837</td>\n",
       "      <td>0.031633</td>\n",
       "      <td>-0.043125</td>\n",
       "      <td>-0.046551</td>\n",
       "      <td>1.000000</td>\n",
       "      <td>0.062148</td>\n",
       "      <td>0.146668</td>\n",
       "      <td>-0.040708</td>\n",
       "      <td>-0.005887</td>\n",
       "      <td>0.007113</td>\n",
       "      <td>-0.017605</td>\n",
       "      <td>0.013413</td>\n",
       "    </tr>\n",
       "    <tr>\n",
       "      <th>SORE THROAT</th>\n",
       "      <td>-0.105755</td>\n",
       "      <td>-0.062823</td>\n",
       "      <td>0.001083</td>\n",
       "      <td>0.019849</td>\n",
       "      <td>0.010381</td>\n",
       "      <td>-0.009506</td>\n",
       "      <td>-0.040672</td>\n",
       "      <td>-0.047411</td>\n",
       "      <td>0.062148</td>\n",
       "      <td>1.000000</td>\n",
       "      <td>0.015141</td>\n",
       "      <td>0.064801</td>\n",
       "      <td>0.052343</td>\n",
       "      <td>0.065870</td>\n",
       "      <td>-0.030366</td>\n",
       "      <td>-0.008681</td>\n",
       "    </tr>\n",
       "    <tr>\n",
       "      <th>DIARRHEA</th>\n",
       "      <td>-0.048191</td>\n",
       "      <td>0.017050</td>\n",
       "      <td>0.009738</td>\n",
       "      <td>0.020887</td>\n",
       "      <td>0.037218</td>\n",
       "      <td>0.023900</td>\n",
       "      <td>0.042957</td>\n",
       "      <td>-0.009285</td>\n",
       "      <td>0.146668</td>\n",
       "      <td>0.015141</td>\n",
       "      <td>1.000000</td>\n",
       "      <td>0.048589</td>\n",
       "      <td>-0.026456</td>\n",
       "      <td>0.125182</td>\n",
       "      <td>0.021379</td>\n",
       "      <td>0.044341</td>\n",
       "    </tr>\n",
       "    <tr>\n",
       "      <th>CHILLS</th>\n",
       "      <td>0.023023</td>\n",
       "      <td>-0.014599</td>\n",
       "      <td>-0.017796</td>\n",
       "      <td>-0.030242</td>\n",
       "      <td>0.033071</td>\n",
       "      <td>-0.034958</td>\n",
       "      <td>0.020311</td>\n",
       "      <td>-0.022450</td>\n",
       "      <td>-0.040708</td>\n",
       "      <td>0.064801</td>\n",
       "      <td>0.048589</td>\n",
       "      <td>1.000000</td>\n",
       "      <td>0.049161</td>\n",
       "      <td>0.017500</td>\n",
       "      <td>-0.009769</td>\n",
       "      <td>0.016038</td>\n",
       "    </tr>\n",
       "    <tr>\n",
       "      <th>HEADACHE</th>\n",
       "      <td>0.016395</td>\n",
       "      <td>-0.022730</td>\n",
       "      <td>-0.068020</td>\n",
       "      <td>0.056511</td>\n",
       "      <td>0.007328</td>\n",
       "      <td>-0.030098</td>\n",
       "      <td>-0.048444</td>\n",
       "      <td>-0.093514</td>\n",
       "      <td>-0.005887</td>\n",
       "      <td>0.052343</td>\n",
       "      <td>-0.026456</td>\n",
       "      <td>0.049161</td>\n",
       "      <td>1.000000</td>\n",
       "      <td>0.083667</td>\n",
       "      <td>-0.282833</td>\n",
       "      <td>-0.272482</td>\n",
       "    </tr>\n",
       "    <tr>\n",
       "      <th>VOMITING</th>\n",
       "      <td>0.022586</td>\n",
       "      <td>0.025970</td>\n",
       "      <td>-0.020995</td>\n",
       "      <td>0.014351</td>\n",
       "      <td>0.008849</td>\n",
       "      <td>-0.005686</td>\n",
       "      <td>-0.009234</td>\n",
       "      <td>-0.034236</td>\n",
       "      <td>0.007113</td>\n",
       "      <td>0.065870</td>\n",
       "      <td>0.125182</td>\n",
       "      <td>0.017500</td>\n",
       "      <td>0.083667</td>\n",
       "      <td>1.000000</td>\n",
       "      <td>-0.006384</td>\n",
       "      <td>-0.066612</td>\n",
       "    </tr>\n",
       "    <tr>\n",
       "      <th>LIVES_IN_AFFECTED_AREA</th>\n",
       "      <td>-0.000310</td>\n",
       "      <td>0.212699</td>\n",
       "      <td>0.187202</td>\n",
       "      <td>-0.030356</td>\n",
       "      <td>-0.016685</td>\n",
       "      <td>-0.037240</td>\n",
       "      <td>0.066466</td>\n",
       "      <td>0.024829</td>\n",
       "      <td>-0.017605</td>\n",
       "      <td>-0.030366</td>\n",
       "      <td>0.021379</td>\n",
       "      <td>-0.009769</td>\n",
       "      <td>-0.282833</td>\n",
       "      <td>-0.006384</td>\n",
       "      <td>1.000000</td>\n",
       "      <td>0.302627</td>\n",
       "    </tr>\n",
       "    <tr>\n",
       "      <th>COVID_OUTPUT</th>\n",
       "      <td>0.006081</td>\n",
       "      <td>0.013788</td>\n",
       "      <td>0.529185</td>\n",
       "      <td>0.218632</td>\n",
       "      <td>0.070014</td>\n",
       "      <td>0.057166</td>\n",
       "      <td>0.077812</td>\n",
       "      <td>0.016807</td>\n",
       "      <td>0.013413</td>\n",
       "      <td>-0.008681</td>\n",
       "      <td>0.044341</td>\n",
       "      <td>0.016038</td>\n",
       "      <td>-0.272482</td>\n",
       "      <td>-0.066612</td>\n",
       "      <td>0.302627</td>\n",
       "      <td>1.000000</td>\n",
       "    </tr>\n",
       "  </tbody>\n",
       "</table>\n",
       "</div>"
      ],
      "text/plain": [
       "                             AGE    GENDER     FEVER     COUGH   FATIGUE  \\\n",
       "AGE                     1.000000  0.074382  0.022943  0.047645  0.097993   \n",
       "GENDER                  0.074382  1.000000  0.053795  0.003112 -0.048996   \n",
       "FEVER                   0.022943  0.053795  1.000000  0.191755 -0.005902   \n",
       "COUGH                   0.047645  0.003112  0.191755  1.000000 -0.027305   \n",
       "FATIGUE                 0.097993 -0.048996 -0.005902 -0.027305  1.000000   \n",
       "PAINS                   0.081185 -0.010474  0.060148  0.052422  0.015797   \n",
       "NASAL_CONGESTION        0.130204  0.011494  0.004159  0.070611 -0.007595   \n",
       "SHORTNESS_OF_BREATH    -0.031658 -0.016308 -0.123018 -0.080566 -0.045449   \n",
       "RUNNY_NOSE             -0.021785 -0.052529  0.010423  0.029718 -0.029837   \n",
       "SORE THROAT            -0.105755 -0.062823  0.001083  0.019849  0.010381   \n",
       "DIARRHEA               -0.048191  0.017050  0.009738  0.020887  0.037218   \n",
       "CHILLS                  0.023023 -0.014599 -0.017796 -0.030242  0.033071   \n",
       "HEADACHE                0.016395 -0.022730 -0.068020  0.056511  0.007328   \n",
       "VOMITING                0.022586  0.025970 -0.020995  0.014351  0.008849   \n",
       "LIVES_IN_AFFECTED_AREA -0.000310  0.212699  0.187202 -0.030356 -0.016685   \n",
       "COVID_OUTPUT            0.006081  0.013788  0.529185  0.218632  0.070014   \n",
       "\n",
       "                           PAINS  NASAL_CONGESTION  SHORTNESS_OF_BREATH  \\\n",
       "AGE                     0.081185          0.130204            -0.031658   \n",
       "GENDER                 -0.010474          0.011494            -0.016308   \n",
       "FEVER                   0.060148          0.004159            -0.123018   \n",
       "COUGH                   0.052422          0.070611            -0.080566   \n",
       "FATIGUE                 0.015797         -0.007595            -0.045449   \n",
       "PAINS                   1.000000          0.040673             0.014355   \n",
       "NASAL_CONGESTION        0.040673          1.000000            -0.042787   \n",
       "SHORTNESS_OF_BREATH     0.014355         -0.042787             1.000000   \n",
       "RUNNY_NOSE              0.031633         -0.043125            -0.046551   \n",
       "SORE THROAT            -0.009506         -0.040672            -0.047411   \n",
       "DIARRHEA                0.023900          0.042957            -0.009285   \n",
       "CHILLS                 -0.034958          0.020311            -0.022450   \n",
       "HEADACHE               -0.030098         -0.048444            -0.093514   \n",
       "VOMITING               -0.005686         -0.009234            -0.034236   \n",
       "LIVES_IN_AFFECTED_AREA -0.037240          0.066466             0.024829   \n",
       "COVID_OUTPUT            0.057166          0.077812             0.016807   \n",
       "\n",
       "                        RUNNY_NOSE  SORE THROAT  DIARRHEA    CHILLS  HEADACHE  \\\n",
       "AGE                      -0.021785    -0.105755 -0.048191  0.023023  0.016395   \n",
       "GENDER                   -0.052529    -0.062823  0.017050 -0.014599 -0.022730   \n",
       "FEVER                     0.010423     0.001083  0.009738 -0.017796 -0.068020   \n",
       "COUGH                     0.029718     0.019849  0.020887 -0.030242  0.056511   \n",
       "FATIGUE                  -0.029837     0.010381  0.037218  0.033071  0.007328   \n",
       "PAINS                     0.031633    -0.009506  0.023900 -0.034958 -0.030098   \n",
       "NASAL_CONGESTION         -0.043125    -0.040672  0.042957  0.020311 -0.048444   \n",
       "SHORTNESS_OF_BREATH      -0.046551    -0.047411 -0.009285 -0.022450 -0.093514   \n",
       "RUNNY_NOSE                1.000000     0.062148  0.146668 -0.040708 -0.005887   \n",
       "SORE THROAT               0.062148     1.000000  0.015141  0.064801  0.052343   \n",
       "DIARRHEA                  0.146668     0.015141  1.000000  0.048589 -0.026456   \n",
       "CHILLS                   -0.040708     0.064801  0.048589  1.000000  0.049161   \n",
       "HEADACHE                 -0.005887     0.052343 -0.026456  0.049161  1.000000   \n",
       "VOMITING                  0.007113     0.065870  0.125182  0.017500  0.083667   \n",
       "LIVES_IN_AFFECTED_AREA   -0.017605    -0.030366  0.021379 -0.009769 -0.282833   \n",
       "COVID_OUTPUT              0.013413    -0.008681  0.044341  0.016038 -0.272482   \n",
       "\n",
       "                        VOMITING  LIVES_IN_AFFECTED_AREA  COVID_OUTPUT  \n",
       "AGE                     0.022586               -0.000310      0.006081  \n",
       "GENDER                  0.025970                0.212699      0.013788  \n",
       "FEVER                  -0.020995                0.187202      0.529185  \n",
       "COUGH                   0.014351               -0.030356      0.218632  \n",
       "FATIGUE                 0.008849               -0.016685      0.070014  \n",
       "PAINS                  -0.005686               -0.037240      0.057166  \n",
       "NASAL_CONGESTION       -0.009234                0.066466      0.077812  \n",
       "SHORTNESS_OF_BREATH    -0.034236                0.024829      0.016807  \n",
       "RUNNY_NOSE              0.007113               -0.017605      0.013413  \n",
       "SORE THROAT             0.065870               -0.030366     -0.008681  \n",
       "DIARRHEA                0.125182                0.021379      0.044341  \n",
       "CHILLS                  0.017500               -0.009769      0.016038  \n",
       "HEADACHE                0.083667               -0.282833     -0.272482  \n",
       "VOMITING                1.000000               -0.006384     -0.066612  \n",
       "LIVES_IN_AFFECTED_AREA -0.006384                1.000000      0.302627  \n",
       "COVID_OUTPUT           -0.066612                0.302627      1.000000  "
      ]
     },
     "execution_count": 9,
     "metadata": {},
     "output_type": "execute_result"
    }
   ],
   "source": [
    "corrMatrix = df.corr(method='spearman')\n",
    "df.corr()"
   ]
  },
  {
   "cell_type": "markdown",
   "metadata": {
    "id": "eXVu_2oxQ1QV"
   },
   "source": [
    "### Visual Representation of Correlation Matrix"
   ]
  },
  {
   "cell_type": "code",
   "execution_count": 10,
   "metadata": {
    "id": "uxLAs7-JQ1QV"
   },
   "outputs": [
    {
     "data": {
      "image/png": "[encoded data removed]",
      "text/plain": [
       "<Figure size 432x288 with 2 Axes>"
      ]
     },
     "metadata": {
      "needs_background": "light"
     },
     "output_type": "display_data"
    }
   ],
   "source": [
    "sns.heatmap(corrMatrix)\n",
    "plt.rcParams[\"figure.figsize\"] = [10,10]\n",
    "plt.show()"
   ]
  },
  {
   "cell_type": "markdown",
   "metadata": {
    "id": "D83zEoAvQ1QW"
   },
   "source": [
    "### Visual Analysis of Common Symptoms"
   ]
  },
  {
   "cell_type": "code",
   "execution_count": 11,
   "metadata": {
    "id": "zh9Nibc2Q1QW"
   },
   "outputs": [
    {
     "data": {
      "image/png": "[encoded data removed]",
      "text/plain": [
       "<Figure size 720x720 with 1 Axes>"
      ]
     },
     "metadata": {
      "needs_background": "light"
     },
     "output_type": "display_data"
    }
   ],
   "source": [
    "plt.clf()\n",
    "plt.rcParams[\"figure.figsize\"] = [15,5]\n",
    "df.groupby(['COUGH','FEVER','SHORTNESS_OF_BREATH','SORE THROAT']).size().plot(kind='bar')\n",
    "plt.xlabel(\"\\n Possible Combinations of Fever, Cough, Sore Throat and Shortness of Breath\")\n",
    "plt.ylabel(\" Number of patients \\n\")\n",
    "plt.show()"
   ]
  },
  {
   "cell_type": "markdown",
   "metadata": {
    "id": "A6IIjI3xQ1QX"
   },
   "source": [
    "#### Seperating the features and independent variables"
   ]
  },
  {
   "cell_type": "code",
   "execution_count": 12,
   "metadata": {
    "id": "bZq-cvfSQ1QY"
   },
   "outputs": [],
   "source": [
    "X = df.iloc[:,0:15].values\n",
    "y = df.iloc[:,15].values"
   ]
  },
  {
   "cell_type": "markdown",
   "metadata": {
    "id": "M0rrbOm1Q1QY"
   },
   "source": [
    "#### Spliting the dataset into test and train"
   ]
  },
  {
   "cell_type": "code",
   "execution_count": 13,
   "metadata": {
    "id": "PsD9-9eyQ1QY"
   },
   "outputs": [],
   "source": [
    "from sklearn.model_selection import train_test_split\n",
    "X_train, X_test, y_train, y_test = train_test_split(X,y,test_size=0.20)"
   ]
  },
  {
   "cell_type": "markdown",
   "metadata": {
    "id": "eOK3Vr8DQ1QZ"
   },
   "source": [
    "#### Creating Different Models"
   ]
  },
  {
   "cell_type": "code",
   "execution_count": 14,
   "metadata": {
    "id": "3u4NXldvQ1QZ"
   },
   "outputs": [
    {
     "data": {
      "text/plain": [
       "GaussianNB()"
      ]
     },
     "execution_count": 14,
     "metadata": {},
     "output_type": "execute_result"
    }
   ],
   "source": [
    "rfc = RandomForestClassifier(n_estimators=15,random_state=42)\n",
    "dt = DecisionTreeClassifier(random_state=42)\n",
    "lr = LogisticRegression(random_state=42)\n",
    "gnb = GaussianNB()\n",
    "svr = LinearSVC(random_state=42)\n",
    "#nn = MLPClassifier(random_state=42)\n",
    "#---------------------------\n",
    "lr.fit(X_train,y_train)\n",
    "rfc.fit(X_train,y_train)\n",
    "dt.fit(X_train,y_train)\n",
    "svr.fit(X_train,y_train)\n",
    "gnb.fit(X_train,y_train)\n"
   ]
  },
  {
   "cell_type": "markdown",
   "metadata": {
    "id": "zBojFGIwQ1Qa"
   },
   "source": [
    "### Area Under Curve Analysis"
   ]
  },
  {
   "cell_type": "code",
   "execution_count": 15,
   "metadata": {
    "id": "tmBh-sWHQ1Qa"
   },
   "outputs": [
    {
     "data": {
      "text/plain": [
       "<sklearn.metrics._plot.roc_curve.RocCurveDisplay at 0x20bd0ef3c88>"
      ]
     },
     "execution_count": 15,
     "metadata": {},
     "output_type": "execute_result"
    },
    {
     "data": {
      "image/png": "[encoded data removed]",
      "text/plain": [
       "<Figure size 720x432 with 1 Axes>"
      ]
     },
     "metadata": {
      "needs_background": "light"
     },
     "output_type": "display_data"
    }
   ],
   "source": [
    "plt.rcParams[\"figure.figsize\"] = [10,6]\n",
    "disp = plot_roc_curve(lr,X_test,y_test)\n",
    "plt.title(' Area Under Curve Analysis\\n')\n",
    "plot_roc_curve(dt,X_test,y_test,ax=disp.ax_)\n",
    "plot_roc_curve(rfc,X_test,y_test,ax=disp.ax_)\n",
    "plot_roc_curve(gnb,X_test,y_test,ax=disp.ax_)\n",
    "plot_roc_curve(svr,X_test,y_test,ax=disp.ax_)"
   ]
  },
  {
   "cell_type": "markdown",
   "metadata": {
    "id": "NX2ceMFvQ1Qb"
   },
   "source": [
    "\n",
    "#### Discussions:\n",
    "\n",
    "As LogisticRegression is having high AUC values among all the algorithms, we'll work with LR to make the predictions for the COVID-19 Infection Probability.\n",
    "\n",
    "**_data_input_**: List holding the values of the given symptoms and patient's attributes."
   ]
  },
  {
   "cell_type": "markdown",
   "metadata": {
    "id": "bayDdwk5Q1Qc"
   },
   "source": [
    "##### Case 1: Considering a male patient of 32years of age and having no symptoms at all"
   ]
  },
  {
   "cell_type": "code",
   "execution_count": 17,
   "metadata": {
    "id": "L2_tr6zZQ1Qc"
   },
   "outputs": [
    {
     "name": "stdout",
     "output_type": "stream",
     "text": [
      "COVID19 Infection Probability: 13.24%\n"
     ]
    }
   ],
   "source": [
    "data_input = [32,1,0,0,0,0,0,0,0,0,0,0,0,0,0] #Age:22, Gender: 1(Male) and so on..\n",
    "result = (lr.predict_proba([data_input]))\n",
    "result = round(result[0][1]*100,2)\n",
    "print(f\"COVID19 Infection Probability: {result}%\")"
   ]
  },
  {
   "cell_type": "markdown",
   "metadata": {
    "id": "2Q3X5JnfQ1Qc"
   },
   "source": [
    "##### Case 2: Considering a female patient of 67years of age and having fever,headache,cough,lives in affected area"
   ]
  },
  {
   "cell_type": "code",
   "execution_count": 18,
   "metadata": {
    "id": "raFMee-YQ1Qd"
   },
   "outputs": [
    {
     "name": "stdout",
     "output_type": "stream",
     "text": [
      "COVID19 Infection Probability: 78.32%\n"
     ]
    }
   ],
   "source": [
    "data_input = [67,0,1,1,0,0,0,0,0,0,0,0,1,0,1] #Age:67, Gender: 0(Female) and so on..\n",
    "result = (lr.predict_proba([data_input]))\n",
    "result = round(result[0][1]*100,2)\n",
    "print(f\"COVID19 Infection Probability: {result}%\")"
   ]
  },
  {
   "cell_type": "markdown",
   "metadata": {
    "id": "1mvvq7G8Q1Qd"
   },
   "source": [
    "&nbsp;"
   ]
  },
  {
   "cell_type": "markdown",
   "metadata": {
    "id": "mKv4JR0qQ1Qe"
   },
   "source": [
    "<div align=\"center\" style=\"margin-left:-100px;\"><b>Stay Home, Stay Safe 🙏🏻</b></div>"
   ]
  }
 ],
 "metadata": {
  "colab": {
   "name": "COVID19 Symptoms Prediction.ipynb",
   "provenance": []
  },
  "kernelspec": {
   "display_name": "Python 3",
   "language": "python",
   "name": "python3"
  },
  "language_info": {
   "codemirror_mode": {
    "name": "ipython",
    "version": 3
   },
   "file_extension": ".py",
   "mimetype": "text/x-python",
   "name": "python",
   "nbconvert_exporter": "python",
   "pygments_lexer": "ipython3",
   "version": "3.7.6"
  }
 },
 "nbformat": 4,
 "nbformat_minor": 1
}
